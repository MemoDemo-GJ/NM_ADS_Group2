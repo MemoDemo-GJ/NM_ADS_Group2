{
 "cells": [
  {
   "cell_type": "code",
   "execution_count": 1,
   "id": "ef3f0af0",
   "metadata": {
    "_cell_guid": "b1076dfc-b9ad-4769-8c92-a6c4dae69d19",
    "_uuid": "8f2839f25d086af736a60e9eeb907d3b93b6e0e5",
    "execution": {
     "iopub.execute_input": "2022-12-10T13:34:04.696894Z",
     "iopub.status.busy": "2022-12-10T13:34:04.696487Z",
     "iopub.status.idle": "2022-12-10T13:34:05.662434Z",
     "shell.execute_reply": "2022-12-10T13:34:05.660624Z"
    },
    "papermill": {
     "duration": 0.982429,
     "end_time": "2022-12-10T13:34:05.665335",
     "exception": false,
     "start_time": "2022-12-10T13:34:04.682906",
     "status": "completed"
    },
    "tags": []
   },
   "outputs": [],
   "source": [
    "import numpy as np\n",
    "import pandas as pd\n",
    "\n",
    "import matplotlib.pyplot as plt\n",
    "import seaborn as sns"
   ]
  },
  {
   "cell_type": "code",
   "execution_count": 5,
   "id": "f89ce638",
   "metadata": {
    "execution": {
     "iopub.execute_input": "2022-12-10T13:34:05.689812Z",
     "iopub.status.busy": "2022-12-10T13:34:05.689404Z",
     "iopub.status.idle": "2022-12-10T13:34:05.697278Z",
     "shell.execute_reply": "2022-12-10T13:34:05.695817Z"
    },
    "papermill": {
     "duration": 0.023781,
     "end_time": "2022-12-10T13:34:05.699795",
     "exception": false,
     "start_time": "2022-12-10T13:34:05.676014",
     "status": "completed"
    },
    "tags": []
   },
   "outputs": [
    {
     "name": "stdout",
     "output_type": "stream",
     "text": [
      "./input\\items.csv\n",
      "./input\\item_categories.csv\n",
      "./input\\sales_train.csv\n",
      "./input\\sample_submission.csv\n",
      "./input\\shops.csv\n",
      "./input\\test.csv\n"
     ]
    }
   ],
   "source": [
    "\n",
    "import os\n",
    "for dirname, _, filenames in os.walk('./input'):\n",
    "    for filename in filenames:\n",
    "        print(os.path.join(dirname, filename))"
   ]
  },
  {
   "cell_type": "code",
   "execution_count": 6,
   "id": "d766af58",
   "metadata": {
    "execution": {
     "iopub.execute_input": "2022-12-10T13:34:05.722899Z",
     "iopub.status.busy": "2022-12-10T13:34:05.722569Z",
     "iopub.status.idle": "2022-12-10T13:34:08.555803Z",
     "shell.execute_reply": "2022-12-10T13:34:08.555089Z"
    },
    "papermill": {
     "duration": 2.847179,
     "end_time": "2022-12-10T13:34:08.557977",
     "exception": false,
     "start_time": "2022-12-10T13:34:05.710798",
     "status": "completed"
    },
    "tags": []
   },
   "outputs": [
    {
     "name": "stderr",
     "output_type": "stream",
     "text": [
      "C:\\Users\\jeeva\\AppData\\Local\\Temp\\ipykernel_8308\\3871983746.py:3: FutureWarning: The argument 'infer_datetime_format' is deprecated and will be removed in a future version. A strict version of it is now the default, see https://pandas.pydata.org/pdeps/0004-consistent-to-datetime-parsing.html. You can safely remove this argument.\n",
      "  df_train = pd.read_csv('./input/sales_train.csv', parse_dates = ['date'], infer_datetime_format = True, dayfirst = True)\n"
     ]
    }
   ],
   "source": [
    "# importing the libraries\n",
    "\n",
    "df_train = pd.read_csv('./input/sales_train.csv', parse_dates = ['date'], infer_datetime_format = True, dayfirst = True)\n",
    "df_test = pd.read_csv('./input/test.csv')\n",
    "df_shops = pd.read_csv('./input/shops.csv')\n",
    "df_items = pd.read_csv('./input/items.csv')\n",
    "df_item_categories = pd.read_csv('./input/item_categories.csv')"
   ]
  },
  {
   "cell_type": "code",
   "execution_count": 4,
   "id": "8333704a",
   "metadata": {
    "execution": {
     "iopub.execute_input": "2022-12-10T13:34:08.582118Z",
     "iopub.status.busy": "2022-12-10T13:34:08.580891Z",
     "iopub.status.idle": "2022-12-10T13:34:08.587462Z",
     "shell.execute_reply": "2022-12-10T13:34:08.586097Z"
    },
    "papermill": {
     "duration": 0.020945,
     "end_time": "2022-12-10T13:34:08.589977",
     "exception": false,
     "start_time": "2022-12-10T13:34:08.569032",
     "status": "completed"
    },
    "tags": []
   },
   "outputs": [
    {
     "name": "stdout",
     "output_type": "stream",
     "text": [
      "Shape of train: (2935849, 6)\n",
      "Shape of test: (214200, 3)\n",
      "Shape of shops: (60, 2)\n",
      "Shape of items: (22170, 3)\n",
      "Shape of item_categories: (84, 2)\n"
     ]
    }
   ],
   "source": [
    "# checking the shapes of these datasets\n",
    "print(\"Shape of train:\", df_train.shape)\n",
    "print(\"Shape of test:\", df_test.shape)\n",
    "print(\"Shape of shops:\", df_shops.shape)\n",
    "print(\"Shape of items:\", df_items.shape)\n",
    "print(\"Shape of item_categories:\", df_item_categories.shape)"
   ]
  },
  {
   "cell_type": "code",
   "execution_count": 5,
   "id": "8210ab8f",
   "metadata": {
    "execution": {
     "iopub.execute_input": "2022-12-10T13:34:08.612723Z",
     "iopub.status.busy": "2022-12-10T13:34:08.612354Z",
     "iopub.status.idle": "2022-12-10T13:34:08.637849Z",
     "shell.execute_reply": "2022-12-10T13:34:08.636575Z"
    },
    "papermill": {
     "duration": 0.040148,
     "end_time": "2022-12-10T13:34:08.640806",
     "exception": false,
     "start_time": "2022-12-10T13:34:08.600658",
     "status": "completed"
    },
    "tags": []
   },
   "outputs": [
    {
     "data": {
      "text/html": [
       "<div>\n",
       "<style scoped>\n",
       "    .dataframe tbody tr th:only-of-type {\n",
       "        vertical-align: middle;\n",
       "    }\n",
       "\n",
       "    .dataframe tbody tr th {\n",
       "        vertical-align: top;\n",
       "    }\n",
       "\n",
       "    .dataframe thead th {\n",
       "        text-align: right;\n",
       "    }\n",
       "</style>\n",
       "<table border=\"1\" class=\"dataframe\">\n",
       "  <thead>\n",
       "    <tr style=\"text-align: right;\">\n",
       "      <th></th>\n",
       "      <th>date</th>\n",
       "      <th>date_block_num</th>\n",
       "      <th>shop_id</th>\n",
       "      <th>item_id</th>\n",
       "      <th>item_price</th>\n",
       "      <th>item_cnt_day</th>\n",
       "    </tr>\n",
       "  </thead>\n",
       "  <tbody>\n",
       "    <tr>\n",
       "      <th>0</th>\n",
       "      <td>2013-01-02</td>\n",
       "      <td>0</td>\n",
       "      <td>59</td>\n",
       "      <td>22154</td>\n",
       "      <td>999.00</td>\n",
       "      <td>1.0</td>\n",
       "    </tr>\n",
       "    <tr>\n",
       "      <th>1</th>\n",
       "      <td>2013-01-03</td>\n",
       "      <td>0</td>\n",
       "      <td>25</td>\n",
       "      <td>2552</td>\n",
       "      <td>899.00</td>\n",
       "      <td>1.0</td>\n",
       "    </tr>\n",
       "    <tr>\n",
       "      <th>2</th>\n",
       "      <td>2013-01-05</td>\n",
       "      <td>0</td>\n",
       "      <td>25</td>\n",
       "      <td>2552</td>\n",
       "      <td>899.00</td>\n",
       "      <td>-1.0</td>\n",
       "    </tr>\n",
       "    <tr>\n",
       "      <th>3</th>\n",
       "      <td>2013-01-06</td>\n",
       "      <td>0</td>\n",
       "      <td>25</td>\n",
       "      <td>2554</td>\n",
       "      <td>1709.05</td>\n",
       "      <td>1.0</td>\n",
       "    </tr>\n",
       "    <tr>\n",
       "      <th>4</th>\n",
       "      <td>2013-01-15</td>\n",
       "      <td>0</td>\n",
       "      <td>25</td>\n",
       "      <td>2555</td>\n",
       "      <td>1099.00</td>\n",
       "      <td>1.0</td>\n",
       "    </tr>\n",
       "    <tr>\n",
       "      <th>...</th>\n",
       "      <td>...</td>\n",
       "      <td>...</td>\n",
       "      <td>...</td>\n",
       "      <td>...</td>\n",
       "      <td>...</td>\n",
       "      <td>...</td>\n",
       "    </tr>\n",
       "    <tr>\n",
       "      <th>2935844</th>\n",
       "      <td>2015-10-10</td>\n",
       "      <td>33</td>\n",
       "      <td>25</td>\n",
       "      <td>7409</td>\n",
       "      <td>299.00</td>\n",
       "      <td>1.0</td>\n",
       "    </tr>\n",
       "    <tr>\n",
       "      <th>2935845</th>\n",
       "      <td>2015-10-09</td>\n",
       "      <td>33</td>\n",
       "      <td>25</td>\n",
       "      <td>7460</td>\n",
       "      <td>299.00</td>\n",
       "      <td>1.0</td>\n",
       "    </tr>\n",
       "    <tr>\n",
       "      <th>2935846</th>\n",
       "      <td>2015-10-14</td>\n",
       "      <td>33</td>\n",
       "      <td>25</td>\n",
       "      <td>7459</td>\n",
       "      <td>349.00</td>\n",
       "      <td>1.0</td>\n",
       "    </tr>\n",
       "    <tr>\n",
       "      <th>2935847</th>\n",
       "      <td>2015-10-22</td>\n",
       "      <td>33</td>\n",
       "      <td>25</td>\n",
       "      <td>7440</td>\n",
       "      <td>299.00</td>\n",
       "      <td>1.0</td>\n",
       "    </tr>\n",
       "    <tr>\n",
       "      <th>2935848</th>\n",
       "      <td>2015-10-03</td>\n",
       "      <td>33</td>\n",
       "      <td>25</td>\n",
       "      <td>7460</td>\n",
       "      <td>299.00</td>\n",
       "      <td>1.0</td>\n",
       "    </tr>\n",
       "  </tbody>\n",
       "</table>\n",
       "<p>2935849 rows × 6 columns</p>\n",
       "</div>"
      ],
      "text/plain": [
       "              date  date_block_num  shop_id  item_id  item_price  item_cnt_day\n",
       "0       2013-01-02               0       59    22154      999.00           1.0\n",
       "1       2013-01-03               0       25     2552      899.00           1.0\n",
       "2       2013-01-05               0       25     2552      899.00          -1.0\n",
       "3       2013-01-06               0       25     2554     1709.05           1.0\n",
       "4       2013-01-15               0       25     2555     1099.00           1.0\n",
       "...            ...             ...      ...      ...         ...           ...\n",
       "2935844 2015-10-10              33       25     7409      299.00           1.0\n",
       "2935845 2015-10-09              33       25     7460      299.00           1.0\n",
       "2935846 2015-10-14              33       25     7459      349.00           1.0\n",
       "2935847 2015-10-22              33       25     7440      299.00           1.0\n",
       "2935848 2015-10-03              33       25     7460      299.00           1.0\n",
       "\n",
       "[2935849 rows x 6 columns]"
      ]
     },
     "execution_count": 5,
     "metadata": {},
     "output_type": "execute_result"
    }
   ],
   "source": [
    "df_train"
   ]
  },
  {
   "cell_type": "code",
   "execution_count": 6,
   "id": "4dce0827",
   "metadata": {
    "execution": {
     "iopub.execute_input": "2022-12-10T13:34:08.664799Z",
     "iopub.status.busy": "2022-12-10T13:34:08.664412Z",
     "iopub.status.idle": "2022-12-10T13:34:08.675206Z",
     "shell.execute_reply": "2022-12-10T13:34:08.674315Z"
    },
    "papermill": {
     "duration": 0.025652,
     "end_time": "2022-12-10T13:34:08.677660",
     "exception": false,
     "start_time": "2022-12-10T13:34:08.652008",
     "status": "completed"
    },
    "tags": []
   },
   "outputs": [
    {
     "data": {
      "text/html": [
       "<div>\n",
       "<style scoped>\n",
       "    .dataframe tbody tr th:only-of-type {\n",
       "        vertical-align: middle;\n",
       "    }\n",
       "\n",
       "    .dataframe tbody tr th {\n",
       "        vertical-align: top;\n",
       "    }\n",
       "\n",
       "    .dataframe thead th {\n",
       "        text-align: right;\n",
       "    }\n",
       "</style>\n",
       "<table border=\"1\" class=\"dataframe\">\n",
       "  <thead>\n",
       "    <tr style=\"text-align: right;\">\n",
       "      <th></th>\n",
       "      <th>ID</th>\n",
       "      <th>shop_id</th>\n",
       "      <th>item_id</th>\n",
       "    </tr>\n",
       "  </thead>\n",
       "  <tbody>\n",
       "    <tr>\n",
       "      <th>0</th>\n",
       "      <td>0</td>\n",
       "      <td>5</td>\n",
       "      <td>5037</td>\n",
       "    </tr>\n",
       "    <tr>\n",
       "      <th>1</th>\n",
       "      <td>1</td>\n",
       "      <td>5</td>\n",
       "      <td>5320</td>\n",
       "    </tr>\n",
       "    <tr>\n",
       "      <th>2</th>\n",
       "      <td>2</td>\n",
       "      <td>5</td>\n",
       "      <td>5233</td>\n",
       "    </tr>\n",
       "    <tr>\n",
       "      <th>3</th>\n",
       "      <td>3</td>\n",
       "      <td>5</td>\n",
       "      <td>5232</td>\n",
       "    </tr>\n",
       "    <tr>\n",
       "      <th>4</th>\n",
       "      <td>4</td>\n",
       "      <td>5</td>\n",
       "      <td>5268</td>\n",
       "    </tr>\n",
       "    <tr>\n",
       "      <th>...</th>\n",
       "      <td>...</td>\n",
       "      <td>...</td>\n",
       "      <td>...</td>\n",
       "    </tr>\n",
       "    <tr>\n",
       "      <th>214195</th>\n",
       "      <td>214195</td>\n",
       "      <td>45</td>\n",
       "      <td>18454</td>\n",
       "    </tr>\n",
       "    <tr>\n",
       "      <th>214196</th>\n",
       "      <td>214196</td>\n",
       "      <td>45</td>\n",
       "      <td>16188</td>\n",
       "    </tr>\n",
       "    <tr>\n",
       "      <th>214197</th>\n",
       "      <td>214197</td>\n",
       "      <td>45</td>\n",
       "      <td>15757</td>\n",
       "    </tr>\n",
       "    <tr>\n",
       "      <th>214198</th>\n",
       "      <td>214198</td>\n",
       "      <td>45</td>\n",
       "      <td>19648</td>\n",
       "    </tr>\n",
       "    <tr>\n",
       "      <th>214199</th>\n",
       "      <td>214199</td>\n",
       "      <td>45</td>\n",
       "      <td>969</td>\n",
       "    </tr>\n",
       "  </tbody>\n",
       "</table>\n",
       "<p>214200 rows × 3 columns</p>\n",
       "</div>"
      ],
      "text/plain": [
       "            ID  shop_id  item_id\n",
       "0            0        5     5037\n",
       "1            1        5     5320\n",
       "2            2        5     5233\n",
       "3            3        5     5232\n",
       "4            4        5     5268\n",
       "...        ...      ...      ...\n",
       "214195  214195       45    18454\n",
       "214196  214196       45    16188\n",
       "214197  214197       45    15757\n",
       "214198  214198       45    19648\n",
       "214199  214199       45      969\n",
       "\n",
       "[214200 rows x 3 columns]"
      ]
     },
     "execution_count": 6,
     "metadata": {},
     "output_type": "execute_result"
    }
   ],
   "source": [
    "df_test"
   ]
  },
  {
   "cell_type": "code",
   "execution_count": 7,
   "id": "cfad7a44",
   "metadata": {
    "execution": {
     "iopub.execute_input": "2022-12-10T13:34:08.701119Z",
     "iopub.status.busy": "2022-12-10T13:34:08.700744Z",
     "iopub.status.idle": "2022-12-10T13:34:08.713109Z",
     "shell.execute_reply": "2022-12-10T13:34:08.712177Z"
    },
    "papermill": {
     "duration": 0.026814,
     "end_time": "2022-12-10T13:34:08.715633",
     "exception": false,
     "start_time": "2022-12-10T13:34:08.688819",
     "status": "completed"
    },
    "tags": []
   },
   "outputs": [
    {
     "data": {
      "text/html": [
       "<div>\n",
       "<style scoped>\n",
       "    .dataframe tbody tr th:only-of-type {\n",
       "        vertical-align: middle;\n",
       "    }\n",
       "\n",
       "    .dataframe tbody tr th {\n",
       "        vertical-align: top;\n",
       "    }\n",
       "\n",
       "    .dataframe thead th {\n",
       "        text-align: right;\n",
       "    }\n",
       "</style>\n",
       "<table border=\"1\" class=\"dataframe\">\n",
       "  <thead>\n",
       "    <tr style=\"text-align: right;\">\n",
       "      <th></th>\n",
       "      <th>shop_name</th>\n",
       "      <th>shop_id</th>\n",
       "    </tr>\n",
       "  </thead>\n",
       "  <tbody>\n",
       "    <tr>\n",
       "      <th>0</th>\n",
       "      <td>!Якутск Орджоникидзе, 56 фран</td>\n",
       "      <td>0</td>\n",
       "    </tr>\n",
       "    <tr>\n",
       "      <th>1</th>\n",
       "      <td>!Якутск ТЦ \"Центральный\" фран</td>\n",
       "      <td>1</td>\n",
       "    </tr>\n",
       "    <tr>\n",
       "      <th>2</th>\n",
       "      <td>Адыгея ТЦ \"Мега\"</td>\n",
       "      <td>2</td>\n",
       "    </tr>\n",
       "    <tr>\n",
       "      <th>3</th>\n",
       "      <td>Балашиха ТРК \"Октябрь-Киномир\"</td>\n",
       "      <td>3</td>\n",
       "    </tr>\n",
       "    <tr>\n",
       "      <th>4</th>\n",
       "      <td>Волжский ТЦ \"Волга Молл\"</td>\n",
       "      <td>4</td>\n",
       "    </tr>\n",
       "    <tr>\n",
       "      <th>5</th>\n",
       "      <td>Вологда ТРЦ \"Мармелад\"</td>\n",
       "      <td>5</td>\n",
       "    </tr>\n",
       "    <tr>\n",
       "      <th>6</th>\n",
       "      <td>Воронеж (Плехановская, 13)</td>\n",
       "      <td>6</td>\n",
       "    </tr>\n",
       "    <tr>\n",
       "      <th>7</th>\n",
       "      <td>Воронеж ТРЦ \"Максимир\"</td>\n",
       "      <td>7</td>\n",
       "    </tr>\n",
       "    <tr>\n",
       "      <th>8</th>\n",
       "      <td>Воронеж ТРЦ Сити-Парк \"Град\"</td>\n",
       "      <td>8</td>\n",
       "    </tr>\n",
       "    <tr>\n",
       "      <th>9</th>\n",
       "      <td>Выездная Торговля</td>\n",
       "      <td>9</td>\n",
       "    </tr>\n",
       "    <tr>\n",
       "      <th>10</th>\n",
       "      <td>Жуковский ул. Чкалова 39м?</td>\n",
       "      <td>10</td>\n",
       "    </tr>\n",
       "    <tr>\n",
       "      <th>11</th>\n",
       "      <td>Жуковский ул. Чкалова 39м²</td>\n",
       "      <td>11</td>\n",
       "    </tr>\n",
       "    <tr>\n",
       "      <th>12</th>\n",
       "      <td>Интернет-магазин ЧС</td>\n",
       "      <td>12</td>\n",
       "    </tr>\n",
       "    <tr>\n",
       "      <th>13</th>\n",
       "      <td>Казань ТЦ \"Бехетле\"</td>\n",
       "      <td>13</td>\n",
       "    </tr>\n",
       "    <tr>\n",
       "      <th>14</th>\n",
       "      <td>Казань ТЦ \"ПаркХаус\" II</td>\n",
       "      <td>14</td>\n",
       "    </tr>\n",
       "    <tr>\n",
       "      <th>15</th>\n",
       "      <td>Калуга ТРЦ \"XXI век\"</td>\n",
       "      <td>15</td>\n",
       "    </tr>\n",
       "    <tr>\n",
       "      <th>16</th>\n",
       "      <td>Коломна ТЦ \"Рио\"</td>\n",
       "      <td>16</td>\n",
       "    </tr>\n",
       "    <tr>\n",
       "      <th>17</th>\n",
       "      <td>Красноярск ТЦ \"Взлетка Плаза\"</td>\n",
       "      <td>17</td>\n",
       "    </tr>\n",
       "    <tr>\n",
       "      <th>18</th>\n",
       "      <td>Красноярск ТЦ \"Июнь\"</td>\n",
       "      <td>18</td>\n",
       "    </tr>\n",
       "    <tr>\n",
       "      <th>19</th>\n",
       "      <td>Курск ТЦ \"Пушкинский\"</td>\n",
       "      <td>19</td>\n",
       "    </tr>\n",
       "    <tr>\n",
       "      <th>20</th>\n",
       "      <td>Москва \"Распродажа\"</td>\n",
       "      <td>20</td>\n",
       "    </tr>\n",
       "    <tr>\n",
       "      <th>21</th>\n",
       "      <td>Москва МТРЦ \"Афи Молл\"</td>\n",
       "      <td>21</td>\n",
       "    </tr>\n",
       "    <tr>\n",
       "      <th>22</th>\n",
       "      <td>Москва Магазин С21</td>\n",
       "      <td>22</td>\n",
       "    </tr>\n",
       "    <tr>\n",
       "      <th>23</th>\n",
       "      <td>Москва ТК \"Буденовский\" (пав.А2)</td>\n",
       "      <td>23</td>\n",
       "    </tr>\n",
       "    <tr>\n",
       "      <th>24</th>\n",
       "      <td>Москва ТК \"Буденовский\" (пав.К7)</td>\n",
       "      <td>24</td>\n",
       "    </tr>\n",
       "    <tr>\n",
       "      <th>25</th>\n",
       "      <td>Москва ТРК \"Атриум\"</td>\n",
       "      <td>25</td>\n",
       "    </tr>\n",
       "    <tr>\n",
       "      <th>26</th>\n",
       "      <td>Москва ТЦ \"Ареал\" (Беляево)</td>\n",
       "      <td>26</td>\n",
       "    </tr>\n",
       "    <tr>\n",
       "      <th>27</th>\n",
       "      <td>Москва ТЦ \"МЕГА Белая Дача II\"</td>\n",
       "      <td>27</td>\n",
       "    </tr>\n",
       "    <tr>\n",
       "      <th>28</th>\n",
       "      <td>Москва ТЦ \"МЕГА Теплый Стан\" II</td>\n",
       "      <td>28</td>\n",
       "    </tr>\n",
       "    <tr>\n",
       "      <th>29</th>\n",
       "      <td>Москва ТЦ \"Новый век\" (Новокосино)</td>\n",
       "      <td>29</td>\n",
       "    </tr>\n",
       "    <tr>\n",
       "      <th>30</th>\n",
       "      <td>Москва ТЦ \"Перловский\"</td>\n",
       "      <td>30</td>\n",
       "    </tr>\n",
       "    <tr>\n",
       "      <th>31</th>\n",
       "      <td>Москва ТЦ \"Семеновский\"</td>\n",
       "      <td>31</td>\n",
       "    </tr>\n",
       "    <tr>\n",
       "      <th>32</th>\n",
       "      <td>Москва ТЦ \"Серебряный Дом\"</td>\n",
       "      <td>32</td>\n",
       "    </tr>\n",
       "    <tr>\n",
       "      <th>33</th>\n",
       "      <td>Мытищи ТРК \"XL-3\"</td>\n",
       "      <td>33</td>\n",
       "    </tr>\n",
       "    <tr>\n",
       "      <th>34</th>\n",
       "      <td>Н.Новгород ТРЦ \"РИО\"</td>\n",
       "      <td>34</td>\n",
       "    </tr>\n",
       "    <tr>\n",
       "      <th>35</th>\n",
       "      <td>Н.Новгород ТРЦ \"Фантастика\"</td>\n",
       "      <td>35</td>\n",
       "    </tr>\n",
       "    <tr>\n",
       "      <th>36</th>\n",
       "      <td>Новосибирск ТРЦ \"Галерея Новосибирск\"</td>\n",
       "      <td>36</td>\n",
       "    </tr>\n",
       "    <tr>\n",
       "      <th>37</th>\n",
       "      <td>Новосибирск ТЦ \"Мега\"</td>\n",
       "      <td>37</td>\n",
       "    </tr>\n",
       "    <tr>\n",
       "      <th>38</th>\n",
       "      <td>Омск ТЦ \"Мега\"</td>\n",
       "      <td>38</td>\n",
       "    </tr>\n",
       "    <tr>\n",
       "      <th>39</th>\n",
       "      <td>РостовНаДону ТРК \"Мегацентр Горизонт\"</td>\n",
       "      <td>39</td>\n",
       "    </tr>\n",
       "    <tr>\n",
       "      <th>40</th>\n",
       "      <td>РостовНаДону ТРК \"Мегацентр Горизонт\" Островной</td>\n",
       "      <td>40</td>\n",
       "    </tr>\n",
       "    <tr>\n",
       "      <th>41</th>\n",
       "      <td>РостовНаДону ТЦ \"Мега\"</td>\n",
       "      <td>41</td>\n",
       "    </tr>\n",
       "    <tr>\n",
       "      <th>42</th>\n",
       "      <td>СПб ТК \"Невский Центр\"</td>\n",
       "      <td>42</td>\n",
       "    </tr>\n",
       "    <tr>\n",
       "      <th>43</th>\n",
       "      <td>СПб ТК \"Сенная\"</td>\n",
       "      <td>43</td>\n",
       "    </tr>\n",
       "    <tr>\n",
       "      <th>44</th>\n",
       "      <td>Самара ТЦ \"Мелодия\"</td>\n",
       "      <td>44</td>\n",
       "    </tr>\n",
       "    <tr>\n",
       "      <th>45</th>\n",
       "      <td>Самара ТЦ \"ПаркХаус\"</td>\n",
       "      <td>45</td>\n",
       "    </tr>\n",
       "    <tr>\n",
       "      <th>46</th>\n",
       "      <td>Сергиев Посад ТЦ \"7Я\"</td>\n",
       "      <td>46</td>\n",
       "    </tr>\n",
       "    <tr>\n",
       "      <th>47</th>\n",
       "      <td>Сургут ТРЦ \"Сити Молл\"</td>\n",
       "      <td>47</td>\n",
       "    </tr>\n",
       "    <tr>\n",
       "      <th>48</th>\n",
       "      <td>Томск ТРЦ \"Изумрудный Город\"</td>\n",
       "      <td>48</td>\n",
       "    </tr>\n",
       "    <tr>\n",
       "      <th>49</th>\n",
       "      <td>Тюмень ТРЦ \"Кристалл\"</td>\n",
       "      <td>49</td>\n",
       "    </tr>\n",
       "    <tr>\n",
       "      <th>50</th>\n",
       "      <td>Тюмень ТЦ \"Гудвин\"</td>\n",
       "      <td>50</td>\n",
       "    </tr>\n",
       "    <tr>\n",
       "      <th>51</th>\n",
       "      <td>Тюмень ТЦ \"Зеленый Берег\"</td>\n",
       "      <td>51</td>\n",
       "    </tr>\n",
       "    <tr>\n",
       "      <th>52</th>\n",
       "      <td>Уфа ТК \"Центральный\"</td>\n",
       "      <td>52</td>\n",
       "    </tr>\n",
       "    <tr>\n",
       "      <th>53</th>\n",
       "      <td>Уфа ТЦ \"Семья\" 2</td>\n",
       "      <td>53</td>\n",
       "    </tr>\n",
       "    <tr>\n",
       "      <th>54</th>\n",
       "      <td>Химки ТЦ \"Мега\"</td>\n",
       "      <td>54</td>\n",
       "    </tr>\n",
       "    <tr>\n",
       "      <th>55</th>\n",
       "      <td>Цифровой склад 1С-Онлайн</td>\n",
       "      <td>55</td>\n",
       "    </tr>\n",
       "    <tr>\n",
       "      <th>56</th>\n",
       "      <td>Чехов ТРЦ \"Карнавал\"</td>\n",
       "      <td>56</td>\n",
       "    </tr>\n",
       "    <tr>\n",
       "      <th>57</th>\n",
       "      <td>Якутск Орджоникидзе, 56</td>\n",
       "      <td>57</td>\n",
       "    </tr>\n",
       "    <tr>\n",
       "      <th>58</th>\n",
       "      <td>Якутск ТЦ \"Центральный\"</td>\n",
       "      <td>58</td>\n",
       "    </tr>\n",
       "    <tr>\n",
       "      <th>59</th>\n",
       "      <td>Ярославль ТЦ \"Альтаир\"</td>\n",
       "      <td>59</td>\n",
       "    </tr>\n",
       "  </tbody>\n",
       "</table>\n",
       "</div>"
      ],
      "text/plain": [
       "                                          shop_name  shop_id\n",
       "0                     !Якутск Орджоникидзе, 56 фран        0\n",
       "1                     !Якутск ТЦ \"Центральный\" фран        1\n",
       "2                                  Адыгея ТЦ \"Мега\"        2\n",
       "3                    Балашиха ТРК \"Октябрь-Киномир\"        3\n",
       "4                          Волжский ТЦ \"Волга Молл\"        4\n",
       "5                            Вологда ТРЦ \"Мармелад\"        5\n",
       "6                        Воронеж (Плехановская, 13)        6\n",
       "7                            Воронеж ТРЦ \"Максимир\"        7\n",
       "8                      Воронеж ТРЦ Сити-Парк \"Град\"        8\n",
       "9                                 Выездная Торговля        9\n",
       "10                       Жуковский ул. Чкалова 39м?       10\n",
       "11                       Жуковский ул. Чкалова 39м²       11\n",
       "12                              Интернет-магазин ЧС       12\n",
       "13                              Казань ТЦ \"Бехетле\"       13\n",
       "14                          Казань ТЦ \"ПаркХаус\" II       14\n",
       "15                             Калуга ТРЦ \"XXI век\"       15\n",
       "16                                 Коломна ТЦ \"Рио\"       16\n",
       "17                    Красноярск ТЦ \"Взлетка Плаза\"       17\n",
       "18                             Красноярск ТЦ \"Июнь\"       18\n",
       "19                            Курск ТЦ \"Пушкинский\"       19\n",
       "20                              Москва \"Распродажа\"       20\n",
       "21                           Москва МТРЦ \"Афи Молл\"       21\n",
       "22                               Москва Магазин С21       22\n",
       "23                 Москва ТК \"Буденовский\" (пав.А2)       23\n",
       "24                 Москва ТК \"Буденовский\" (пав.К7)       24\n",
       "25                              Москва ТРК \"Атриум\"       25\n",
       "26                      Москва ТЦ \"Ареал\" (Беляево)       26\n",
       "27                   Москва ТЦ \"МЕГА Белая Дача II\"       27\n",
       "28                  Москва ТЦ \"МЕГА Теплый Стан\" II       28\n",
       "29               Москва ТЦ \"Новый век\" (Новокосино)       29\n",
       "30                           Москва ТЦ \"Перловский\"       30\n",
       "31                          Москва ТЦ \"Семеновский\"       31\n",
       "32                       Москва ТЦ \"Серебряный Дом\"       32\n",
       "33                                Мытищи ТРК \"XL-3\"       33\n",
       "34                             Н.Новгород ТРЦ \"РИО\"       34\n",
       "35                      Н.Новгород ТРЦ \"Фантастика\"       35\n",
       "36            Новосибирск ТРЦ \"Галерея Новосибирск\"       36\n",
       "37                            Новосибирск ТЦ \"Мега\"       37\n",
       "38                                   Омск ТЦ \"Мега\"       38\n",
       "39            РостовНаДону ТРК \"Мегацентр Горизонт\"       39\n",
       "40  РостовНаДону ТРК \"Мегацентр Горизонт\" Островной       40\n",
       "41                           РостовНаДону ТЦ \"Мега\"       41\n",
       "42                           СПб ТК \"Невский Центр\"       42\n",
       "43                                  СПб ТК \"Сенная\"       43\n",
       "44                              Самара ТЦ \"Мелодия\"       44\n",
       "45                             Самара ТЦ \"ПаркХаус\"       45\n",
       "46                            Сергиев Посад ТЦ \"7Я\"       46\n",
       "47                           Сургут ТРЦ \"Сити Молл\"       47\n",
       "48                     Томск ТРЦ \"Изумрудный Город\"       48\n",
       "49                            Тюмень ТРЦ \"Кристалл\"       49\n",
       "50                               Тюмень ТЦ \"Гудвин\"       50\n",
       "51                        Тюмень ТЦ \"Зеленый Берег\"       51\n",
       "52                             Уфа ТК \"Центральный\"       52\n",
       "53                                 Уфа ТЦ \"Семья\" 2       53\n",
       "54                                  Химки ТЦ \"Мега\"       54\n",
       "55                         Цифровой склад 1С-Онлайн       55\n",
       "56                             Чехов ТРЦ \"Карнавал\"       56\n",
       "57                          Якутск Орджоникидзе, 56       57\n",
       "58                          Якутск ТЦ \"Центральный\"       58\n",
       "59                           Ярославль ТЦ \"Альтаир\"       59"
      ]
     },
     "execution_count": 7,
     "metadata": {},
     "output_type": "execute_result"
    }
   ],
   "source": [
    "df_shops"
   ]
  },
  {
   "cell_type": "code",
   "execution_count": 8,
   "id": "b45df6b9",
   "metadata": {
    "execution": {
     "iopub.execute_input": "2022-12-10T13:34:08.740117Z",
     "iopub.status.busy": "2022-12-10T13:34:08.739723Z",
     "iopub.status.idle": "2022-12-10T13:34:08.754335Z",
     "shell.execute_reply": "2022-12-10T13:34:08.752818Z"
    },
    "papermill": {
     "duration": 0.029188,
     "end_time": "2022-12-10T13:34:08.756351",
     "exception": false,
     "start_time": "2022-12-10T13:34:08.727163",
     "status": "completed"
    },
    "tags": []
   },
   "outputs": [
    {
     "data": {
      "text/html": [
       "<div>\n",
       "<style scoped>\n",
       "    .dataframe tbody tr th:only-of-type {\n",
       "        vertical-align: middle;\n",
       "    }\n",
       "\n",
       "    .dataframe tbody tr th {\n",
       "        vertical-align: top;\n",
       "    }\n",
       "\n",
       "    .dataframe thead th {\n",
       "        text-align: right;\n",
       "    }\n",
       "</style>\n",
       "<table border=\"1\" class=\"dataframe\">\n",
       "  <thead>\n",
       "    <tr style=\"text-align: right;\">\n",
       "      <th></th>\n",
       "      <th>item_name</th>\n",
       "      <th>item_id</th>\n",
       "      <th>item_category_id</th>\n",
       "    </tr>\n",
       "  </thead>\n",
       "  <tbody>\n",
       "    <tr>\n",
       "      <th>0</th>\n",
       "      <td>! ВО ВЛАСТИ НАВАЖДЕНИЯ (ПЛАСТ.)         D</td>\n",
       "      <td>0</td>\n",
       "      <td>40</td>\n",
       "    </tr>\n",
       "    <tr>\n",
       "      <th>1</th>\n",
       "      <td>!ABBYY FineReader 12 Professional Edition Full...</td>\n",
       "      <td>1</td>\n",
       "      <td>76</td>\n",
       "    </tr>\n",
       "    <tr>\n",
       "      <th>2</th>\n",
       "      <td>***В ЛУЧАХ СЛАВЫ   (UNV)                    D</td>\n",
       "      <td>2</td>\n",
       "      <td>40</td>\n",
       "    </tr>\n",
       "    <tr>\n",
       "      <th>3</th>\n",
       "      <td>***ГОЛУБАЯ ВОЛНА  (Univ)                      D</td>\n",
       "      <td>3</td>\n",
       "      <td>40</td>\n",
       "    </tr>\n",
       "    <tr>\n",
       "      <th>4</th>\n",
       "      <td>***КОРОБКА (СТЕКЛО)                       D</td>\n",
       "      <td>4</td>\n",
       "      <td>40</td>\n",
       "    </tr>\n",
       "    <tr>\n",
       "      <th>...</th>\n",
       "      <td>...</td>\n",
       "      <td>...</td>\n",
       "      <td>...</td>\n",
       "    </tr>\n",
       "    <tr>\n",
       "      <th>22165</th>\n",
       "      <td>Ядерный титбит 2 [PC, Цифровая версия]</td>\n",
       "      <td>22165</td>\n",
       "      <td>31</td>\n",
       "    </tr>\n",
       "    <tr>\n",
       "      <th>22166</th>\n",
       "      <td>Язык запросов 1С:Предприятия  [Цифровая версия]</td>\n",
       "      <td>22166</td>\n",
       "      <td>54</td>\n",
       "    </tr>\n",
       "    <tr>\n",
       "      <th>22167</th>\n",
       "      <td>Язык запросов 1С:Предприятия 8 (+CD). Хрустале...</td>\n",
       "      <td>22167</td>\n",
       "      <td>49</td>\n",
       "    </tr>\n",
       "    <tr>\n",
       "      <th>22168</th>\n",
       "      <td>Яйцо для Little Inu</td>\n",
       "      <td>22168</td>\n",
       "      <td>62</td>\n",
       "    </tr>\n",
       "    <tr>\n",
       "      <th>22169</th>\n",
       "      <td>Яйцо дракона (Игра престолов)</td>\n",
       "      <td>22169</td>\n",
       "      <td>69</td>\n",
       "    </tr>\n",
       "  </tbody>\n",
       "</table>\n",
       "<p>22170 rows × 3 columns</p>\n",
       "</div>"
      ],
      "text/plain": [
       "                                               item_name  item_id  \\\n",
       "0              ! ВО ВЛАСТИ НАВАЖДЕНИЯ (ПЛАСТ.)         D        0   \n",
       "1      !ABBYY FineReader 12 Professional Edition Full...        1   \n",
       "2          ***В ЛУЧАХ СЛАВЫ   (UNV)                    D        2   \n",
       "3        ***ГОЛУБАЯ ВОЛНА  (Univ)                      D        3   \n",
       "4            ***КОРОБКА (СТЕКЛО)                       D        4   \n",
       "...                                                  ...      ...   \n",
       "22165             Ядерный титбит 2 [PC, Цифровая версия]    22165   \n",
       "22166    Язык запросов 1С:Предприятия  [Цифровая версия]    22166   \n",
       "22167  Язык запросов 1С:Предприятия 8 (+CD). Хрустале...    22167   \n",
       "22168                                Яйцо для Little Inu    22168   \n",
       "22169                      Яйцо дракона (Игра престолов)    22169   \n",
       "\n",
       "       item_category_id  \n",
       "0                    40  \n",
       "1                    76  \n",
       "2                    40  \n",
       "3                    40  \n",
       "4                    40  \n",
       "...                 ...  \n",
       "22165                31  \n",
       "22166                54  \n",
       "22167                49  \n",
       "22168                62  \n",
       "22169                69  \n",
       "\n",
       "[22170 rows x 3 columns]"
      ]
     },
     "execution_count": 8,
     "metadata": {},
     "output_type": "execute_result"
    }
   ],
   "source": [
    "df_items"
   ]
  },
  {
   "cell_type": "code",
   "execution_count": 9,
   "id": "4291869b",
   "metadata": {
    "execution": {
     "iopub.execute_input": "2022-12-10T13:34:08.781513Z",
     "iopub.status.busy": "2022-12-10T13:34:08.781144Z",
     "iopub.status.idle": "2022-12-10T13:34:08.793508Z",
     "shell.execute_reply": "2022-12-10T13:34:08.792460Z"
    },
    "papermill": {
     "duration": 0.027681,
     "end_time": "2022-12-10T13:34:08.795895",
     "exception": false,
     "start_time": "2022-12-10T13:34:08.768214",
     "status": "completed"
    },
    "tags": []
   },
   "outputs": [
    {
     "data": {
      "text/html": [
       "<div>\n",
       "<style scoped>\n",
       "    .dataframe tbody tr th:only-of-type {\n",
       "        vertical-align: middle;\n",
       "    }\n",
       "\n",
       "    .dataframe tbody tr th {\n",
       "        vertical-align: top;\n",
       "    }\n",
       "\n",
       "    .dataframe thead th {\n",
       "        text-align: right;\n",
       "    }\n",
       "</style>\n",
       "<table border=\"1\" class=\"dataframe\">\n",
       "  <thead>\n",
       "    <tr style=\"text-align: right;\">\n",
       "      <th></th>\n",
       "      <th>item_category_name</th>\n",
       "      <th>item_category_id</th>\n",
       "    </tr>\n",
       "  </thead>\n",
       "  <tbody>\n",
       "    <tr>\n",
       "      <th>0</th>\n",
       "      <td>PC - Гарнитуры/Наушники</td>\n",
       "      <td>0</td>\n",
       "    </tr>\n",
       "    <tr>\n",
       "      <th>1</th>\n",
       "      <td>Аксессуары - PS2</td>\n",
       "      <td>1</td>\n",
       "    </tr>\n",
       "    <tr>\n",
       "      <th>2</th>\n",
       "      <td>Аксессуары - PS3</td>\n",
       "      <td>2</td>\n",
       "    </tr>\n",
       "    <tr>\n",
       "      <th>3</th>\n",
       "      <td>Аксессуары - PS4</td>\n",
       "      <td>3</td>\n",
       "    </tr>\n",
       "    <tr>\n",
       "      <th>4</th>\n",
       "      <td>Аксессуары - PSP</td>\n",
       "      <td>4</td>\n",
       "    </tr>\n",
       "    <tr>\n",
       "      <th>...</th>\n",
       "      <td>...</td>\n",
       "      <td>...</td>\n",
       "    </tr>\n",
       "    <tr>\n",
       "      <th>79</th>\n",
       "      <td>Служебные</td>\n",
       "      <td>79</td>\n",
       "    </tr>\n",
       "    <tr>\n",
       "      <th>80</th>\n",
       "      <td>Служебные - Билеты</td>\n",
       "      <td>80</td>\n",
       "    </tr>\n",
       "    <tr>\n",
       "      <th>81</th>\n",
       "      <td>Чистые носители (шпиль)</td>\n",
       "      <td>81</td>\n",
       "    </tr>\n",
       "    <tr>\n",
       "      <th>82</th>\n",
       "      <td>Чистые носители (штучные)</td>\n",
       "      <td>82</td>\n",
       "    </tr>\n",
       "    <tr>\n",
       "      <th>83</th>\n",
       "      <td>Элементы питания</td>\n",
       "      <td>83</td>\n",
       "    </tr>\n",
       "  </tbody>\n",
       "</table>\n",
       "<p>84 rows × 2 columns</p>\n",
       "</div>"
      ],
      "text/plain": [
       "           item_category_name  item_category_id\n",
       "0     PC - Гарнитуры/Наушники                 0\n",
       "1            Аксессуары - PS2                 1\n",
       "2            Аксессуары - PS3                 2\n",
       "3            Аксессуары - PS4                 3\n",
       "4            Аксессуары - PSP                 4\n",
       "..                        ...               ...\n",
       "79                  Служебные                79\n",
       "80         Служебные - Билеты                80\n",
       "81    Чистые носители (шпиль)                81\n",
       "82  Чистые носители (штучные)                82\n",
       "83           Элементы питания                83\n",
       "\n",
       "[84 rows x 2 columns]"
      ]
     },
     "execution_count": 9,
     "metadata": {},
     "output_type": "execute_result"
    }
   ],
   "source": [
    "df_item_categories"
   ]
  },
  {
   "cell_type": "code",
   "execution_count": 10,
   "id": "40bd82f8",
   "metadata": {
    "execution": {
     "iopub.execute_input": "2022-12-10T13:34:08.821532Z",
     "iopub.status.busy": "2022-12-10T13:34:08.821160Z",
     "iopub.status.idle": "2022-12-10T13:34:09.139381Z",
     "shell.execute_reply": "2022-12-10T13:34:09.137957Z"
    },
    "papermill": {
     "duration": 0.334077,
     "end_time": "2022-12-10T13:34:09.142014",
     "exception": false,
     "start_time": "2022-12-10T13:34:08.807937",
     "status": "completed"
    },
    "tags": []
   },
   "outputs": [
    {
     "data": {
      "text/html": [
       "<div>\n",
       "<style scoped>\n",
       "    .dataframe tbody tr th:only-of-type {\n",
       "        vertical-align: middle;\n",
       "    }\n",
       "\n",
       "    .dataframe tbody tr th {\n",
       "        vertical-align: top;\n",
       "    }\n",
       "\n",
       "    .dataframe thead th {\n",
       "        text-align: right;\n",
       "    }\n",
       "</style>\n",
       "<table border=\"1\" class=\"dataframe\">\n",
       "  <thead>\n",
       "    <tr style=\"text-align: right;\">\n",
       "      <th></th>\n",
       "      <th>count</th>\n",
       "      <th>mean</th>\n",
       "      <th>std</th>\n",
       "      <th>min</th>\n",
       "      <th>25%</th>\n",
       "      <th>50%</th>\n",
       "      <th>75%</th>\n",
       "      <th>max</th>\n",
       "    </tr>\n",
       "  </thead>\n",
       "  <tbody>\n",
       "    <tr>\n",
       "      <th>date_block_num</th>\n",
       "      <td>2935849.0</td>\n",
       "      <td>14.569911</td>\n",
       "      <td>9.422988</td>\n",
       "      <td>0.0</td>\n",
       "      <td>7.0</td>\n",
       "      <td>14.0</td>\n",
       "      <td>23.0</td>\n",
       "      <td>33.0</td>\n",
       "    </tr>\n",
       "    <tr>\n",
       "      <th>shop_id</th>\n",
       "      <td>2935849.0</td>\n",
       "      <td>33.001728</td>\n",
       "      <td>16.226973</td>\n",
       "      <td>0.0</td>\n",
       "      <td>22.0</td>\n",
       "      <td>31.0</td>\n",
       "      <td>47.0</td>\n",
       "      <td>59.0</td>\n",
       "    </tr>\n",
       "    <tr>\n",
       "      <th>item_id</th>\n",
       "      <td>2935849.0</td>\n",
       "      <td>10197.227057</td>\n",
       "      <td>6324.297354</td>\n",
       "      <td>0.0</td>\n",
       "      <td>4476.0</td>\n",
       "      <td>9343.0</td>\n",
       "      <td>15684.0</td>\n",
       "      <td>22169.0</td>\n",
       "    </tr>\n",
       "    <tr>\n",
       "      <th>item_price</th>\n",
       "      <td>2935849.0</td>\n",
       "      <td>890.853233</td>\n",
       "      <td>1729.799631</td>\n",
       "      <td>-1.0</td>\n",
       "      <td>249.0</td>\n",
       "      <td>399.0</td>\n",
       "      <td>999.0</td>\n",
       "      <td>307980.0</td>\n",
       "    </tr>\n",
       "    <tr>\n",
       "      <th>item_cnt_day</th>\n",
       "      <td>2935849.0</td>\n",
       "      <td>1.242641</td>\n",
       "      <td>2.618834</td>\n",
       "      <td>-22.0</td>\n",
       "      <td>1.0</td>\n",
       "      <td>1.0</td>\n",
       "      <td>1.0</td>\n",
       "      <td>2169.0</td>\n",
       "    </tr>\n",
       "  </tbody>\n",
       "</table>\n",
       "</div>"
      ],
      "text/plain": [
       "                    count          mean          std   min     25%     50%  \\\n",
       "date_block_num  2935849.0     14.569911     9.422988   0.0     7.0    14.0   \n",
       "shop_id         2935849.0     33.001728    16.226973   0.0    22.0    31.0   \n",
       "item_id         2935849.0  10197.227057  6324.297354   0.0  4476.0  9343.0   \n",
       "item_price      2935849.0    890.853233  1729.799631  -1.0   249.0   399.0   \n",
       "item_cnt_day    2935849.0      1.242641     2.618834 -22.0     1.0     1.0   \n",
       "\n",
       "                    75%       max  \n",
       "date_block_num     23.0      33.0  \n",
       "shop_id            47.0      59.0  \n",
       "item_id         15684.0   22169.0  \n",
       "item_price        999.0  307980.0  \n",
       "item_cnt_day        1.0    2169.0  "
      ]
     },
     "execution_count": 10,
     "metadata": {},
     "output_type": "execute_result"
    }
   ],
   "source": [
    "df_train.describe().T"
   ]
  },
  {
   "cell_type": "code",
   "execution_count": 11,
   "id": "efc7213d",
   "metadata": {
    "execution": {
     "iopub.execute_input": "2022-12-10T13:34:09.168293Z",
     "iopub.status.busy": "2022-12-10T13:34:09.167928Z",
     "iopub.status.idle": "2022-12-10T13:34:09.200657Z",
     "shell.execute_reply": "2022-12-10T13:34:09.199056Z"
    },
    "papermill": {
     "duration": 0.048748,
     "end_time": "2022-12-10T13:34:09.203122",
     "exception": false,
     "start_time": "2022-12-10T13:34:09.154374",
     "status": "completed"
    },
    "tags": []
   },
   "outputs": [
    {
     "name": "stdout",
     "output_type": "stream",
     "text": [
      "No. of Null values in the train set : 0\n",
      "No. of Null values in the test set : 0\n",
      "No. of Null values in the item set : 0\n",
      "No. of Null values in the shops set : 0\n",
      "No. of Null values in the item_categories set : 0\n"
     ]
    }
   ],
   "source": [
    "# checking if there is any Null data inside the given data\n",
    "\n",
    "print(\"No. of Null values in the train set :\", df_train.isnull().sum().sum())\n",
    "print(\"No. of Null values in the test set :\", df_test.isnull().sum().sum())\n",
    "print(\"No. of Null values in the item set :\", df_items.isnull().sum().sum())\n",
    "print(\"No. of Null values in the shops set :\", df_shops.isnull().sum().sum())\n",
    "print(\"No. of Null values in the item_categories set :\", df_item_categories.isnull().sum().sum())\n"
   ]
  },
  {
   "cell_type": "code",
   "execution_count": 12,
   "id": "2ca7e522",
   "metadata": {
    "execution": {
     "iopub.execute_input": "2022-12-10T13:34:09.230301Z",
     "iopub.status.busy": "2022-12-10T13:34:09.228708Z",
     "iopub.status.idle": "2022-12-10T13:34:11.843271Z",
     "shell.execute_reply": "2022-12-10T13:34:11.842481Z"
    },
    "papermill": {
     "duration": 2.629725,
     "end_time": "2022-12-10T13:34:11.844977",
     "exception": false,
     "start_time": "2022-12-10T13:34:09.215252",
     "status": "completed"
    },
    "tags": []
   },
   "outputs": [
    {
     "name": "stderr",
     "output_type": "stream",
     "text": [
      "/opt/conda/lib/python3.7/site-packages/seaborn/_decorators.py:43: FutureWarning: Pass the following variables as keyword args: x, y. From version 0.12, the only valid positional argument will be `data`, and passing other arguments without an explicit keyword will result in an error or misinterpretation.\n",
      "  FutureWarning\n"
     ]
    },
    {
     "data": {
      "image/png": "[encoded data removed]",
      "text/plain": [
       "<Figure size 1584x864 with 1 Axes>"
      ]
     },
     "metadata": {
      "needs_background": "light"
     },
     "output_type": "display_data"
    }
   ],
   "source": [
    "# looking at the number of different categories\n",
    "plt.rcParams['figure.figsize'] = (22, 12)\n",
    "sns.barplot(df_items['item_category_id'], df_items['item_id'], palette = 'colorblind')\n",
    "plt.title('Count for Different Items Categories', fontsize = 30)\n",
    "plt.xlabel('Item Categories', fontsize = 15)\n",
    "plt.ylabel('Items in each Categories', fontsize = 15)\n",
    "plt.show()"
   ]
  },
  {
   "cell_type": "code",
   "execution_count": 13,
   "id": "be12f893",
   "metadata": {
    "execution": {
     "iopub.execute_input": "2022-12-10T13:34:11.872363Z",
     "iopub.status.busy": "2022-12-10T13:34:11.871130Z",
     "iopub.status.idle": "2022-12-10T13:34:12.386911Z",
     "shell.execute_reply": "2022-12-10T13:34:12.385455Z"
    },
    "papermill": {
     "duration": 0.532023,
     "end_time": "2022-12-10T13:34:12.389577",
     "exception": false,
     "start_time": "2022-12-10T13:34:11.857554",
     "status": "completed"
    },
    "tags": []
   },
   "outputs": [
    {
     "name": "stderr",
     "output_type": "stream",
     "text": [
      "/opt/conda/lib/python3.7/site-packages/seaborn/_decorators.py:43: FutureWarning: Pass the following variable as a keyword arg: x. From version 0.12, the only valid positional argument will be `data`, and passing other arguments without an explicit keyword will result in an error or misinterpretation.\n",
      "  FutureWarning\n"
     ]
    },
    {
     "data": {
      "image/png": "[encoded data removed]",
      "text/plain": [
       "<Figure size 1440x720 with 1 Axes>"
      ]
     },
     "metadata": {
      "needs_background": "light"
     },
     "output_type": "display_data"
    }
   ],
   "source": [
    "# having a look at the distribution of item sold per day\n",
    "\n",
    "plt.rcParams['figure.figsize'] = (20, 10)\n",
    "sns.countplot(df_train['date_block_num'])\n",
    "plt.title('Date blocks according to months', fontsize = 30)\n",
    "plt.xlabel('Different blocks of months', fontsize = 15)\n",
    "plt.ylabel('No. of Purchases', fontsize = 15)\n",
    "plt.show()"
   ]
  },
  {
   "cell_type": "code",
   "execution_count": 14,
   "id": "4675262b",
   "metadata": {
    "execution": {
     "iopub.execute_input": "2022-12-10T13:34:12.418271Z",
     "iopub.status.busy": "2022-12-10T13:34:12.417908Z",
     "iopub.status.idle": "2022-12-10T13:34:26.513985Z",
     "shell.execute_reply": "2022-12-10T13:34:26.512781Z"
    },
    "papermill": {
     "duration": 14.113346,
     "end_time": "2022-12-10T13:34:26.516302",
     "exception": false,
     "start_time": "2022-12-10T13:34:12.402956",
     "status": "completed"
    },
    "tags": []
   },
   "outputs": [
    {
     "name": "stderr",
     "output_type": "stream",
     "text": [
      "/opt/conda/lib/python3.7/site-packages/seaborn/distributions.py:2619: FutureWarning: `distplot` is a deprecated function and will be removed in a future version. Please adapt your code to use either `displot` (a figure-level function with similar flexibility) or `histplot` (an axes-level function for histograms).\n",
      "  warnings.warn(msg, FutureWarning)\n"
     ]
    },
    {
     "data": {
      "image/png": "[encoded data removed]",
      "text/plain": [
       "<Figure size 1080x720 with 1 Axes>"
      ]
     },
     "metadata": {
      "needs_background": "light"
     },
     "output_type": "display_data"
    }
   ],
   "source": [
    "# having a look at the distribution of item price\n",
    "\n",
    "plt.rcParams['figure.figsize'] = (15, 10)\n",
    "sns.distplot(df_train['item_price'], color = 'red')\n",
    "plt.title('Distribution of the price of Items', fontsize = 30)\n",
    "plt.xlabel('Range of price of items', fontsize = 15)\n",
    "plt.ylabel('Distrbution of prices over items', fontsize = 15)\n",
    "plt.show()"
   ]
  },
  {
   "cell_type": "code",
   "execution_count": 15,
   "id": "fca84b97",
   "metadata": {
    "execution": {
     "iopub.execute_input": "2022-12-10T13:34:26.550975Z",
     "iopub.status.busy": "2022-12-10T13:34:26.550363Z",
     "iopub.status.idle": "2022-12-10T13:34:40.615407Z",
     "shell.execute_reply": "2022-12-10T13:34:40.613587Z"
    },
    "papermill": {
     "duration": 14.083815,
     "end_time": "2022-12-10T13:34:40.617911",
     "exception": false,
     "start_time": "2022-12-10T13:34:26.534096",
     "status": "completed"
    },
    "tags": []
   },
   "outputs": [
    {
     "name": "stderr",
     "output_type": "stream",
     "text": [
      "/opt/conda/lib/python3.7/site-packages/seaborn/distributions.py:2619: FutureWarning: `distplot` is a deprecated function and will be removed in a future version. Please adapt your code to use either `displot` (a figure-level function with similar flexibility) or `histplot` (an axes-level function for histograms).\n",
      "  warnings.warn(msg, FutureWarning)\n"
     ]
    },
    {
     "data": {
      "image/png": "[encoded data removed]",
      "text/plain": [
       "<Figure size 1152x576 with 1 Axes>"
      ]
     },
     "metadata": {
      "needs_background": "light"
     },
     "output_type": "display_data"
    }
   ],
   "source": [
    "# having a look at the distribution of item sold per day\n",
    "\n",
    "plt.rcParams['figure.figsize'] = (16, 8)\n",
    "sns.distplot(df_train['item_cnt_day'], color = 'purple')\n",
    "plt.title('Distribution of the no. of Items Sold per Day', fontsize = 30)\n",
    "plt.xlabel('Range of items sold per day', fontsize = 15)\n",
    "plt.ylabel('Distrbutions per day', fontsize = 15)\n",
    "plt.show()"
   ]
  },
  {
   "cell_type": "code",
   "execution_count": 16,
   "id": "8b9e2a50",
   "metadata": {
    "execution": {
     "iopub.execute_input": "2022-12-10T13:34:40.648448Z",
     "iopub.status.busy": "2022-12-10T13:34:40.648015Z",
     "iopub.status.idle": "2022-12-10T13:34:40.669657Z",
     "shell.execute_reply": "2022-12-10T13:34:40.668150Z"
    },
    "papermill": {
     "duration": 0.039982,
     "end_time": "2022-12-10T13:34:40.672224",
     "exception": false,
     "start_time": "2022-12-10T13:34:40.632242",
     "status": "completed"
    },
    "tags": []
   },
   "outputs": [
    {
     "name": "stdout",
     "output_type": "stream",
     "text": [
      "The No. of Unique Items Present in the stores available:  21807\n"
     ]
    }
   ],
   "source": [
    "# checking the no. of unique item present in the stores\n",
    "\n",
    "x = df_train['item_id'].nunique()\n",
    "print(\"The No. of Unique Items Present in the stores available: \", x)"
   ]
  },
  {
   "cell_type": "code",
   "execution_count": 17,
   "id": "a39e6665",
   "metadata": {
    "execution": {
     "iopub.execute_input": "2022-12-10T13:34:40.702727Z",
     "iopub.status.busy": "2022-12-10T13:34:40.702340Z",
     "iopub.status.idle": "2022-12-10T13:34:40.708726Z",
     "shell.execute_reply": "2022-12-10T13:34:40.707484Z"
    },
    "papermill": {
     "duration": 0.024359,
     "end_time": "2022-12-10T13:34:40.711019",
     "exception": false,
     "start_time": "2022-12-10T13:34:40.686660",
     "status": "completed"
    },
    "tags": []
   },
   "outputs": [
    {
     "name": "stdout",
     "output_type": "stream",
     "text": [
      "The No. of Unique categories for Items Present in the stores available:  84\n"
     ]
    }
   ],
   "source": [
    "# checking the no. of unique item present in the stores\n",
    "\n",
    "x = df_item_categories['item_category_id'].nunique()\n",
    "print(\"The No. of Unique categories for Items Present in the stores available: \", x)"
   ]
  },
  {
   "cell_type": "code",
   "execution_count": 18,
   "id": "92b3fa17",
   "metadata": {
    "execution": {
     "iopub.execute_input": "2022-12-10T13:34:40.741491Z",
     "iopub.status.busy": "2022-12-10T13:34:40.740863Z",
     "iopub.status.idle": "2022-12-10T13:34:40.758113Z",
     "shell.execute_reply": "2022-12-10T13:34:40.756569Z"
    },
    "papermill": {
     "duration": 0.034905,
     "end_time": "2022-12-10T13:34:40.760195",
     "exception": false,
     "start_time": "2022-12-10T13:34:40.725290",
     "status": "completed"
    },
    "tags": []
   },
   "outputs": [
    {
     "name": "stdout",
     "output_type": "stream",
     "text": [
      "No. of Unique Shops are : 60\n"
     ]
    }
   ],
   "source": [
    "# checking the no. of unique shops given in the dataset\n",
    "\n",
    "x = df_train['shop_id'].nunique()\n",
    "print(\"No. of Unique Shops are :\", x)"
   ]
  },
  {
   "cell_type": "code",
   "execution_count": 22,
   "id": "278fa4ed",
   "metadata": {
    "execution": {
     "iopub.execute_input": "2022-12-10T13:34:43.782655Z",
     "iopub.status.busy": "2022-12-10T13:34:43.782059Z",
     "iopub.status.idle": "2022-12-10T13:34:44.713702Z",
     "shell.execute_reply": "2022-12-10T13:34:44.711883Z"
    },
    "papermill": {
     "duration": 0.960737,
     "end_time": "2022-12-10T13:34:44.716255",
     "exception": false,
     "start_time": "2022-12-10T13:34:43.755518",
     "status": "completed"
    },
    "tags": []
   },
   "outputs": [
    {
     "name": "stderr",
     "output_type": "stream",
     "text": [
      "/opt/conda/lib/python3.7/site-packages/ipykernel_launcher.py:11: FutureWarning: Series.dt.weekofyear and Series.dt.week have been deprecated.  Please use Series.dt.isocalendar().week instead.\n",
      "  # This is added back by InteractiveShellApp.init_path()\n"
     ]
    },
    {
     "data": {
      "text/plain": [
       "Index(['date', 'date_block_num', 'shop_id', 'item_id', 'item_price',\n",
       "       'item_cnt_day', 'day', 'month', 'year', 'week'],\n",
       "      dtype='object')"
      ]
     },
     "execution_count": 22,
     "metadata": {},
     "output_type": "execute_result"
    }
   ],
   "source": [
    "# making a new column day\n",
    "df_train['day'] = df_train['date'].dt.day\n",
    "\n",
    "# making a new column month\n",
    "df_train['month'] = df_train['date'].dt.month\n",
    "\n",
    "# making a new column year\n",
    "df_train['year'] = df_train['date'].dt.year\n",
    "\n",
    "# making a new column week\n",
    "df_train['week'] = df_train['date'].dt.week\n",
    "\n",
    "# checking the new columns\n",
    "df_train.columns"
   ]
  },
  {
   "cell_type": "code",
   "execution_count": 23,
   "id": "527ac164",
   "metadata": {
    "execution": {
     "iopub.execute_input": "2022-12-10T13:34:44.767625Z",
     "iopub.status.busy": "2022-12-10T13:34:44.767174Z",
     "iopub.status.idle": "2022-12-10T13:34:45.604039Z",
     "shell.execute_reply": "2022-12-10T13:34:45.602667Z"
    },
    "papermill": {
     "duration": 0.865064,
     "end_time": "2022-12-10T13:34:45.606562",
     "exception": false,
     "start_time": "2022-12-10T13:34:44.741498",
     "status": "completed"
    },
    "tags": []
   },
   "outputs": [
    {
     "name": "stderr",
     "output_type": "stream",
     "text": [
      "/opt/conda/lib/python3.7/site-packages/seaborn/_decorators.py:43: FutureWarning: Pass the following variable as a keyword arg: x. From version 0.12, the only valid positional argument will be `data`, and passing other arguments without an explicit keyword will result in an error or misinterpretation.\n",
      "  FutureWarning\n"
     ]
    },
    {
     "data": {
      "image/png": "[encoded data removed]",
      "text/plain": [
       "<Figure size 1296x576 with 1 Axes>"
      ]
     },
     "metadata": {
      "needs_background": "light"
     },
     "output_type": "display_data"
    }
   ],
   "source": [
    "# checking which days are most busisiest for the shops\n",
    "\n",
    "plt.rcParams['figure.figsize'] = (18, 8)\n",
    "sns.countplot(df_train['day'])\n",
    "plt.title('The most busiest days for the shops', fontsize = 30)\n",
    "plt.xlabel('Days', fontsize = 15)\n",
    "plt.ylabel('Frequency', fontsize = 15)\n",
    "\n",
    "plt.show()"
   ]
  },
  {
   "cell_type": "code",
   "execution_count": 24,
   "id": "004878ca",
   "metadata": {
    "execution": {
     "iopub.execute_input": "2022-12-10T13:34:45.658934Z",
     "iopub.status.busy": "2022-12-10T13:34:45.658064Z",
     "iopub.status.idle": "2022-12-10T13:34:46.037765Z",
     "shell.execute_reply": "2022-12-10T13:34:46.036867Z"
    },
    "papermill": {
     "duration": 0.408288,
     "end_time": "2022-12-10T13:34:46.040134",
     "exception": false,
     "start_time": "2022-12-10T13:34:45.631846",
     "status": "completed"
    },
    "tags": []
   },
   "outputs": [
    {
     "name": "stderr",
     "output_type": "stream",
     "text": [
      "/opt/conda/lib/python3.7/site-packages/seaborn/_decorators.py:43: FutureWarning: Pass the following variable as a keyword arg: x. From version 0.12, the only valid positional argument will be `data`, and passing other arguments without an explicit keyword will result in an error or misinterpretation.\n",
      "  FutureWarning\n"
     ]
    },
    {
     "data": {
      "image/png": "[encoded data removed]",
      "text/plain": [
       "<Figure size 1296x576 with 1 Axes>"
      ]
     },
     "metadata": {
      "needs_background": "light"
     },
     "output_type": "display_data"
    }
   ],
   "source": [
    "# checking which months are most busisiest for the shops\n",
    "\n",
    "plt.rcParams['figure.figsize'] = (18, 8)\n",
    "sns.countplot(df_train['month'], palette = 'dark')\n",
    "plt.title('The most busiest months for the shops', fontsize = 30)\n",
    "plt.xlabel('Months', fontsize = 15)\n",
    "plt.ylabel('Frequency', fontsize = 15)\n",
    "\n",
    "plt.show()"
   ]
  },
  {
   "cell_type": "code",
   "execution_count": 25,
   "id": "b7d25fb8",
   "metadata": {
    "execution": {
     "iopub.execute_input": "2022-12-10T13:34:46.093386Z",
     "iopub.status.busy": "2022-12-10T13:34:46.092966Z",
     "iopub.status.idle": "2022-12-10T13:34:46.445978Z",
     "shell.execute_reply": "2022-12-10T13:34:46.444865Z"
    },
    "papermill": {
     "duration": 0.38253,
     "end_time": "2022-12-10T13:34:46.448503",
     "exception": false,
     "start_time": "2022-12-10T13:34:46.065973",
     "status": "completed"
    },
    "tags": []
   },
   "outputs": [
    {
     "name": "stderr",
     "output_type": "stream",
     "text": [
      "/opt/conda/lib/python3.7/site-packages/seaborn/_decorators.py:43: FutureWarning: Pass the following variable as a keyword arg: x. From version 0.12, the only valid positional argument will be `data`, and passing other arguments without an explicit keyword will result in an error or misinterpretation.\n",
      "  FutureWarning\n"
     ]
    },
    {
     "data": {
      "image/png": "[encoded data removed]",
      "text/plain": [
       "<Figure size 1296x576 with 1 Axes>"
      ]
     },
     "metadata": {
      "needs_background": "light"
     },
     "output_type": "display_data"
    }
   ],
   "source": [
    "# checking which years are most busisiest for the shops\n",
    "\n",
    "plt.rcParams['figure.figsize'] = (18, 8)\n",
    "sns.countplot(df_train['year'], palette = 'colorblind')\n",
    "plt.title('The most busiest years for the shops', fontsize = 30)\n",
    "plt.xlabel('Year', fontsize = 15)\n",
    "plt.ylabel('Frequency', fontsize = 15)\n",
    "\n",
    "plt.show()"
   ]
  },
  {
   "cell_type": "code",
   "execution_count": 26,
   "id": "2192292a",
   "metadata": {
    "execution": {
     "iopub.execute_input": "2022-12-10T13:34:46.502686Z",
     "iopub.status.busy": "2022-12-10T13:34:46.502291Z",
     "iopub.status.idle": "2022-12-10T13:34:46.507782Z",
     "shell.execute_reply": "2022-12-10T13:34:46.506794Z"
    },
    "papermill": {
     "duration": 0.035519,
     "end_time": "2022-12-10T13:34:46.510305",
     "exception": false,
     "start_time": "2022-12-10T13:34:46.474786",
     "status": "completed"
    },
    "tags": []
   },
   "outputs": [
    {
     "data": {
      "text/plain": [
       "Index(['date', 'date_block_num', 'shop_id', 'item_id', 'item_price',\n",
       "       'item_cnt_day', 'day', 'month', 'year', 'week'],\n",
       "      dtype='object')"
      ]
     },
     "execution_count": 26,
     "metadata": {},
     "output_type": "execute_result"
    }
   ],
   "source": [
    "# checking the columns of the train data\n",
    "\n",
    "df_train.columns"
   ]
  },
  {
   "cell_type": "code",
   "execution_count": 27,
   "id": "27e1d131",
   "metadata": {
    "execution": {
     "iopub.execute_input": "2022-12-10T13:34:46.565602Z",
     "iopub.status.busy": "2022-12-10T13:34:46.565188Z",
     "iopub.status.idle": "2022-12-10T13:35:00.805797Z",
     "shell.execute_reply": "2022-12-10T13:35:00.803669Z"
    },
    "papermill": {
     "duration": 14.272221,
     "end_time": "2022-12-10T13:35:00.808832",
     "exception": false,
     "start_time": "2022-12-10T13:34:46.536611",
     "status": "completed"
    },
    "tags": []
   },
   "outputs": [
    {
     "name": "stderr",
     "output_type": "stream",
     "text": [
      "/opt/conda/lib/python3.7/site-packages/seaborn/distributions.py:2619: FutureWarning: `distplot` is a deprecated function and will be removed in a future version. Please adapt your code to use either `displot` (a figure-level function with similar flexibility) or `histplot` (an axes-level function for histograms).\n",
      "  warnings.warn(msg, FutureWarning)\n"
     ]
    },
    {
     "data": {
      "image/png": "[encoded data removed]",
      "text/plain": [
       "<Figure size 1296x576 with 1 Axes>"
      ]
     },
     "metadata": {
      "needs_background": "light"
     },
     "output_type": "display_data"
    }
   ],
   "source": [
    "# feature engineering\n",
    "\n",
    "df_train['revenue'] = df_train['item_price'] * df_train['item_cnt_day']\n",
    "\n",
    "sns.distplot(df_train['revenue'], color = 'blue')\n",
    "plt.title('Distribution of Revenue', fontsize = 30)\n",
    "plt.xlabel('Range of Revenue', fontsize = 15)\n",
    "plt.ylabel('Revenue')\n",
    "plt.show()"
   ]
  },
  {
   "cell_type": "code",
   "execution_count": 28,
   "id": "9095e50e",
   "metadata": {
    "execution": {
     "iopub.execute_input": "2022-12-10T13:35:00.862280Z",
     "iopub.status.busy": "2022-12-10T13:35:00.861395Z",
     "iopub.status.idle": "2022-12-10T13:35:00.868028Z",
     "shell.execute_reply": "2022-12-10T13:35:00.867372Z"
    },
    "papermill": {
     "duration": 0.035798,
     "end_time": "2022-12-10T13:35:00.870309",
     "exception": false,
     "start_time": "2022-12-10T13:35:00.834511",
     "status": "completed"
    },
    "tags": []
   },
   "outputs": [
    {
     "data": {
      "text/plain": [
       "date              datetime64[ns]\n",
       "date_block_num             int64\n",
       "shop_id                    int64\n",
       "item_id                    int64\n",
       "item_price               float64\n",
       "item_cnt_day             float64\n",
       "day                        int64\n",
       "month                      int64\n",
       "year                       int64\n",
       "week                       int64\n",
       "revenue                  float64\n",
       "dtype: object"
      ]
     },
     "execution_count": 28,
     "metadata": {},
     "output_type": "execute_result"
    }
   ],
   "source": [
    "df_train.dtypes"
   ]
  },
  {
   "cell_type": "code",
   "execution_count": 29,
   "id": "ebe0a132",
   "metadata": {
    "execution": {
     "iopub.execute_input": "2022-12-10T13:35:00.924864Z",
     "iopub.status.busy": "2022-12-10T13:35:00.924465Z",
     "iopub.status.idle": "2022-12-10T13:35:09.903762Z",
     "shell.execute_reply": "2022-12-10T13:35:09.902685Z"
    },
    "papermill": {
     "duration": 9.008936,
     "end_time": "2022-12-10T13:35:09.905666",
     "exception": false,
     "start_time": "2022-12-10T13:35:00.896730",
     "status": "completed"
    },
    "tags": []
   },
   "outputs": [
    {
     "data": {
      "image/png": "[encoded data removed]",
      "text/plain": [
       "<Figure size 1296x648 with 1 Axes>"
      ]
     },
     "metadata": {
      "needs_background": "light"
     },
     "output_type": "display_data"
    }
   ],
   "source": [
    "# plotting a box plot for itemprice and item-cnt-day\n",
    "\n",
    "plt.rcParams['figure.figsize'] = (18, 9)\n",
    "sns.violinplot(x = df_train['day'], y = df_train['revenue'])\n",
    "plt.title('Box Plot for Days v/s Revenue', fontsize = 30)\n",
    "plt.xlabel('Days', fontsize = 15)\n",
    "plt.ylabel('Revenue', fontsize = 15)\n",
    "plt.show()"
   ]
  },
  {
   "cell_type": "code",
   "execution_count": 30,
   "id": "4fbc34bf",
   "metadata": {
    "execution": {
     "iopub.execute_input": "2022-12-10T13:35:09.961207Z",
     "iopub.status.busy": "2022-12-10T13:35:09.960534Z",
     "iopub.status.idle": "2022-12-10T13:35:10.967036Z",
     "shell.execute_reply": "2022-12-10T13:35:10.965956Z"
    },
    "papermill": {
     "duration": 1.037564,
     "end_time": "2022-12-10T13:35:10.970152",
     "exception": false,
     "start_time": "2022-12-10T13:35:09.932588",
     "status": "completed"
    },
    "tags": []
   },
   "outputs": [
    {
     "data": {
      "image/png": "[encoded data removed]",
      "text/plain": [
       "<Figure size 1296x648 with 1 Axes>"
      ]
     },
     "metadata": {
      "needs_background": "light"
     },
     "output_type": "display_data"
    }
   ],
   "source": [
    "# plotting a box plot for itemprice and item-cnt-day\n",
    "\n",
    "plt.rcParams['figure.figsize'] = (18, 9)\n",
    "sns.boxplot(x = df_train['month'], y = df_train['revenue'])\n",
    "plt.title('Box Plot for Days v/s Revenue', fontsize = 30)\n",
    "plt.xlabel('Months', fontsize = 15)\n",
    "plt.ylabel('Revenue', fontsize = 15)\n",
    "plt.show()"
   ]
  },
  {
   "cell_type": "code",
   "execution_count": 31,
   "id": "719cf3bf",
   "metadata": {
    "execution": {
     "iopub.execute_input": "2022-12-10T13:35:11.027484Z",
     "iopub.status.busy": "2022-12-10T13:35:11.026934Z",
     "iopub.status.idle": "2022-12-10T13:35:11.959654Z",
     "shell.execute_reply": "2022-12-10T13:35:11.958739Z"
    },
    "papermill": {
     "duration": 0.964289,
     "end_time": "2022-12-10T13:35:11.962235",
     "exception": false,
     "start_time": "2022-12-10T13:35:10.997946",
     "status": "completed"
    },
    "tags": []
   },
   "outputs": [
    {
     "data": {
      "image/png": "[encoded data removed]",
      "text/plain": [
       "<Figure size 1296x648 with 1 Axes>"
      ]
     },
     "metadata": {
      "needs_background": "light"
     },
     "output_type": "display_data"
    }
   ],
   "source": [
    "# plotting a box plot for itemprice and item-cnt-day\n",
    "\n",
    "plt.rcParams['figure.figsize'] = (18, 9)\n",
    "sns.boxplot(x = df_train['year'], y = df_train['revenue'])\n",
    "plt.title('Box Plot for Days v/s Revenue', fontsize = 30)\n",
    "plt.xlabel('Years', fontsize = 15)\n",
    "plt.ylabel('Revenue', fontsize = 15)\n",
    "plt.show()"
   ]
  },
  {
   "cell_type": "code",
   "execution_count": 32,
   "id": "ff7e3450",
   "metadata": {
    "execution": {
     "iopub.execute_input": "2022-12-10T13:35:12.018717Z",
     "iopub.status.busy": "2022-12-10T13:35:12.018329Z",
     "iopub.status.idle": "2022-12-10T13:35:32.449603Z",
     "shell.execute_reply": "2022-12-10T13:35:32.448603Z"
    },
    "papermill": {
     "duration": 20.462574,
     "end_time": "2022-12-10T13:35:32.452035",
     "exception": false,
     "start_time": "2022-12-10T13:35:11.989461",
     "status": "completed"
    },
    "tags": []
   },
   "outputs": [
    {
     "data": {
      "text/plain": [
       "(424124, 36)"
      ]
     },
     "execution_count": 32,
     "metadata": {},
     "output_type": "execute_result"
    }
   ],
   "source": [
    "# converting the data into monthly sales data\n",
    "\n",
    "# making a dataset with only monthly sales data\n",
    "data = df_train.groupby([df_train['date'].apply(lambda x: x.strftime('%Y-%m')),'item_id','shop_id']).sum().reset_index()\n",
    "\n",
    "# specifying the important attributes which we want to add to the data\n",
    "data = data[['date','item_id','shop_id','item_cnt_day']]\n",
    "\n",
    "# at last we can select the specific attributes from the dataset which are important \n",
    "data = data.pivot_table(index=['item_id','shop_id'], columns = 'date', values = 'item_cnt_day', fill_value = 0).reset_index()\n",
    "\n",
    "# looking at the newly prepared datset\n",
    "data.shape"
   ]
  },
  {
   "cell_type": "code",
   "execution_count": 33,
   "id": "6de68ded",
   "metadata": {
    "execution": {
     "iopub.execute_input": "2022-12-10T13:35:32.509900Z",
     "iopub.status.busy": "2022-12-10T13:35:32.509526Z",
     "iopub.status.idle": "2022-12-10T13:35:32.737505Z",
     "shell.execute_reply": "2022-12-10T13:35:32.735690Z"
    },
    "papermill": {
     "duration": 0.259519,
     "end_time": "2022-12-10T13:35:32.740158",
     "exception": false,
     "start_time": "2022-12-10T13:35:32.480639",
     "status": "completed"
    },
    "tags": []
   },
   "outputs": [
    {
     "data": {
      "text/html": [
       "<div>\n",
       "<style scoped>\n",
       "    .dataframe tbody tr th:only-of-type {\n",
       "        vertical-align: middle;\n",
       "    }\n",
       "\n",
       "    .dataframe tbody tr th {\n",
       "        vertical-align: top;\n",
       "    }\n",
       "\n",
       "    .dataframe thead th {\n",
       "        text-align: right;\n",
       "    }\n",
       "</style>\n",
       "<table border=\"1\" class=\"dataframe\">\n",
       "  <thead>\n",
       "    <tr style=\"text-align: right;\">\n",
       "      <th></th>\n",
       "      <th>ID</th>\n",
       "      <th>shop_id</th>\n",
       "      <th>item_id</th>\n",
       "      <th>2013-01</th>\n",
       "      <th>2013-02</th>\n",
       "      <th>2013-03</th>\n",
       "      <th>2013-04</th>\n",
       "      <th>2013-05</th>\n",
       "      <th>2013-06</th>\n",
       "      <th>2013-07</th>\n",
       "      <th>...</th>\n",
       "      <th>2015-01</th>\n",
       "      <th>2015-02</th>\n",
       "      <th>2015-03</th>\n",
       "      <th>2015-04</th>\n",
       "      <th>2015-05</th>\n",
       "      <th>2015-06</th>\n",
       "      <th>2015-07</th>\n",
       "      <th>2015-08</th>\n",
       "      <th>2015-09</th>\n",
       "      <th>2015-10</th>\n",
       "    </tr>\n",
       "  </thead>\n",
       "  <tbody>\n",
       "    <tr>\n",
       "      <th>0</th>\n",
       "      <td>0</td>\n",
       "      <td>5</td>\n",
       "      <td>5037</td>\n",
       "      <td>0.0</td>\n",
       "      <td>0.0</td>\n",
       "      <td>0.0</td>\n",
       "      <td>0.0</td>\n",
       "      <td>0.0</td>\n",
       "      <td>0.0</td>\n",
       "      <td>0.0</td>\n",
       "      <td>...</td>\n",
       "      <td>2.0</td>\n",
       "      <td>0.0</td>\n",
       "      <td>0.0</td>\n",
       "      <td>0.0</td>\n",
       "      <td>1.0</td>\n",
       "      <td>1.0</td>\n",
       "      <td>1.0</td>\n",
       "      <td>3.0</td>\n",
       "      <td>1.0</td>\n",
       "      <td>0.0</td>\n",
       "    </tr>\n",
       "    <tr>\n",
       "      <th>1</th>\n",
       "      <td>1</td>\n",
       "      <td>5</td>\n",
       "      <td>5320</td>\n",
       "      <td>0.0</td>\n",
       "      <td>0.0</td>\n",
       "      <td>0.0</td>\n",
       "      <td>0.0</td>\n",
       "      <td>0.0</td>\n",
       "      <td>0.0</td>\n",
       "      <td>0.0</td>\n",
       "      <td>...</td>\n",
       "      <td>0.0</td>\n",
       "      <td>0.0</td>\n",
       "      <td>0.0</td>\n",
       "      <td>0.0</td>\n",
       "      <td>0.0</td>\n",
       "      <td>0.0</td>\n",
       "      <td>0.0</td>\n",
       "      <td>0.0</td>\n",
       "      <td>0.0</td>\n",
       "      <td>0.0</td>\n",
       "    </tr>\n",
       "    <tr>\n",
       "      <th>2</th>\n",
       "      <td>2</td>\n",
       "      <td>5</td>\n",
       "      <td>5233</td>\n",
       "      <td>0.0</td>\n",
       "      <td>0.0</td>\n",
       "      <td>0.0</td>\n",
       "      <td>0.0</td>\n",
       "      <td>0.0</td>\n",
       "      <td>0.0</td>\n",
       "      <td>0.0</td>\n",
       "      <td>...</td>\n",
       "      <td>0.0</td>\n",
       "      <td>0.0</td>\n",
       "      <td>0.0</td>\n",
       "      <td>0.0</td>\n",
       "      <td>3.0</td>\n",
       "      <td>2.0</td>\n",
       "      <td>0.0</td>\n",
       "      <td>1.0</td>\n",
       "      <td>3.0</td>\n",
       "      <td>1.0</td>\n",
       "    </tr>\n",
       "    <tr>\n",
       "      <th>3</th>\n",
       "      <td>3</td>\n",
       "      <td>5</td>\n",
       "      <td>5232</td>\n",
       "      <td>0.0</td>\n",
       "      <td>0.0</td>\n",
       "      <td>0.0</td>\n",
       "      <td>0.0</td>\n",
       "      <td>0.0</td>\n",
       "      <td>0.0</td>\n",
       "      <td>0.0</td>\n",
       "      <td>...</td>\n",
       "      <td>0.0</td>\n",
       "      <td>0.0</td>\n",
       "      <td>0.0</td>\n",
       "      <td>0.0</td>\n",
       "      <td>0.0</td>\n",
       "      <td>0.0</td>\n",
       "      <td>0.0</td>\n",
       "      <td>1.0</td>\n",
       "      <td>0.0</td>\n",
       "      <td>0.0</td>\n",
       "    </tr>\n",
       "    <tr>\n",
       "      <th>4</th>\n",
       "      <td>4</td>\n",
       "      <td>5</td>\n",
       "      <td>5268</td>\n",
       "      <td>0.0</td>\n",
       "      <td>0.0</td>\n",
       "      <td>0.0</td>\n",
       "      <td>0.0</td>\n",
       "      <td>0.0</td>\n",
       "      <td>0.0</td>\n",
       "      <td>0.0</td>\n",
       "      <td>...</td>\n",
       "      <td>0.0</td>\n",
       "      <td>0.0</td>\n",
       "      <td>0.0</td>\n",
       "      <td>0.0</td>\n",
       "      <td>0.0</td>\n",
       "      <td>0.0</td>\n",
       "      <td>0.0</td>\n",
       "      <td>0.0</td>\n",
       "      <td>0.0</td>\n",
       "      <td>0.0</td>\n",
       "    </tr>\n",
       "  </tbody>\n",
       "</table>\n",
       "<p>5 rows × 37 columns</p>\n",
       "</div>"
      ],
      "text/plain": [
       "   ID  shop_id  item_id  2013-01  2013-02  2013-03  2013-04  2013-05  2013-06  \\\n",
       "0   0        5     5037      0.0      0.0      0.0      0.0      0.0      0.0   \n",
       "1   1        5     5320      0.0      0.0      0.0      0.0      0.0      0.0   \n",
       "2   2        5     5233      0.0      0.0      0.0      0.0      0.0      0.0   \n",
       "3   3        5     5232      0.0      0.0      0.0      0.0      0.0      0.0   \n",
       "4   4        5     5268      0.0      0.0      0.0      0.0      0.0      0.0   \n",
       "\n",
       "   2013-07  ...  2015-01  2015-02  2015-03  2015-04  2015-05  2015-06  \\\n",
       "0      0.0  ...      2.0      0.0      0.0      0.0      1.0      1.0   \n",
       "1      0.0  ...      0.0      0.0      0.0      0.0      0.0      0.0   \n",
       "2      0.0  ...      0.0      0.0      0.0      0.0      3.0      2.0   \n",
       "3      0.0  ...      0.0      0.0      0.0      0.0      0.0      0.0   \n",
       "4      0.0  ...      0.0      0.0      0.0      0.0      0.0      0.0   \n",
       "\n",
       "   2015-07  2015-08  2015-09  2015-10  \n",
       "0      1.0      3.0      1.0      0.0  \n",
       "1      0.0      0.0      0.0      0.0  \n",
       "2      0.0      1.0      3.0      1.0  \n",
       "3      0.0      1.0      0.0      0.0  \n",
       "4      0.0      0.0      0.0      0.0  \n",
       "\n",
       "[5 rows x 37 columns]"
      ]
     },
     "execution_count": 33,
     "metadata": {},
     "output_type": "execute_result"
    }
   ],
   "source": [
    "# let's merge the monthly sales data prepared to the test data set\n",
    "\n",
    "test = pd.merge(df_test, data, on = ['item_id', 'shop_id'], how = 'left')\n",
    "\n",
    "# filling the empty values found in the dataset\n",
    "test.fillna(0, inplace = True)\n",
    "\n",
    "# checking the dataset\n",
    "test.head()"
   ]
  },
  {
   "cell_type": "code",
   "execution_count": 34,
   "id": "013b90af",
   "metadata": {
    "execution": {
     "iopub.execute_input": "2022-12-10T13:35:32.801044Z",
     "iopub.status.busy": "2022-12-10T13:35:32.800708Z",
     "iopub.status.idle": "2022-12-10T13:35:32.821652Z",
     "shell.execute_reply": "2022-12-10T13:35:32.820175Z"
    },
    "papermill": {
     "duration": 0.055176,
     "end_time": "2022-12-10T13:35:32.823925",
     "exception": false,
     "start_time": "2022-12-10T13:35:32.768749",
     "status": "completed"
    },
    "tags": []
   },
   "outputs": [
    {
     "name": "stdout",
     "output_type": "stream",
     "text": [
      "Shape of x_train : (214200, 34)\n",
      "Shape of x_test : (214200, 34)\n",
      "Shape of y_test : (214200,)\n"
     ]
    }
   ],
   "source": [
    "# now let's create the actual training data\n",
    "\n",
    "x_train = test.drop(['2015-10', 'item_id', 'shop_id'], axis = 1)\n",
    "y_train = test['2015-10']\n",
    "\n",
    "# deleting the first column so that it can predict the future sales data\n",
    "x_test = test.drop(['2013-01', 'item_id', 'shop_id'], axis = 1)\n",
    "\n",
    "# checking the shapes of the datasets\n",
    "print(\"Shape of x_train :\", x_train.shape)\n",
    "print(\"Shape of x_test :\", x_test.shape)\n",
    "print(\"Shape of y_test :\", y_train.shape)"
   ]
  },
  {
   "cell_type": "code",
   "execution_count": 35,
   "id": "79e085f1",
   "metadata": {
    "execution": {
     "iopub.execute_input": "2022-12-10T13:35:32.898627Z",
     "iopub.status.busy": "2022-12-10T13:35:32.898065Z",
     "iopub.status.idle": "2022-12-10T13:35:32.923961Z",
     "shell.execute_reply": "2022-12-10T13:35:32.922574Z"
    },
    "papermill": {
     "duration": 0.064264,
     "end_time": "2022-12-10T13:35:32.926641",
     "exception": false,
     "start_time": "2022-12-10T13:35:32.862377",
     "status": "completed"
    },
    "tags": []
   },
   "outputs": [
    {
     "data": {
      "text/html": [
       "<div>\n",
       "<style scoped>\n",
       "    .dataframe tbody tr th:only-of-type {\n",
       "        vertical-align: middle;\n",
       "    }\n",
       "\n",
       "    .dataframe tbody tr th {\n",
       "        vertical-align: top;\n",
       "    }\n",
       "\n",
       "    .dataframe thead th {\n",
       "        text-align: right;\n",
       "    }\n",
       "</style>\n",
       "<table border=\"1\" class=\"dataframe\">\n",
       "  <thead>\n",
       "    <tr style=\"text-align: right;\">\n",
       "      <th></th>\n",
       "      <th>ID</th>\n",
       "      <th>2013-01</th>\n",
       "      <th>2013-02</th>\n",
       "      <th>2013-03</th>\n",
       "      <th>2013-04</th>\n",
       "      <th>2013-05</th>\n",
       "      <th>2013-06</th>\n",
       "      <th>2013-07</th>\n",
       "      <th>2013-08</th>\n",
       "      <th>2013-09</th>\n",
       "      <th>...</th>\n",
       "      <th>2014-12</th>\n",
       "      <th>2015-01</th>\n",
       "      <th>2015-02</th>\n",
       "      <th>2015-03</th>\n",
       "      <th>2015-04</th>\n",
       "      <th>2015-05</th>\n",
       "      <th>2015-06</th>\n",
       "      <th>2015-07</th>\n",
       "      <th>2015-08</th>\n",
       "      <th>2015-09</th>\n",
       "    </tr>\n",
       "  </thead>\n",
       "  <tbody>\n",
       "    <tr>\n",
       "      <th>0</th>\n",
       "      <td>0</td>\n",
       "      <td>0.0</td>\n",
       "      <td>0.0</td>\n",
       "      <td>0.0</td>\n",
       "      <td>0.0</td>\n",
       "      <td>0.0</td>\n",
       "      <td>0.0</td>\n",
       "      <td>0.0</td>\n",
       "      <td>0.0</td>\n",
       "      <td>0.0</td>\n",
       "      <td>...</td>\n",
       "      <td>2.0</td>\n",
       "      <td>2.0</td>\n",
       "      <td>0.0</td>\n",
       "      <td>0.0</td>\n",
       "      <td>0.0</td>\n",
       "      <td>1.0</td>\n",
       "      <td>1.0</td>\n",
       "      <td>1.0</td>\n",
       "      <td>3.0</td>\n",
       "      <td>1.0</td>\n",
       "    </tr>\n",
       "    <tr>\n",
       "      <th>1</th>\n",
       "      <td>1</td>\n",
       "      <td>0.0</td>\n",
       "      <td>0.0</td>\n",
       "      <td>0.0</td>\n",
       "      <td>0.0</td>\n",
       "      <td>0.0</td>\n",
       "      <td>0.0</td>\n",
       "      <td>0.0</td>\n",
       "      <td>0.0</td>\n",
       "      <td>0.0</td>\n",
       "      <td>...</td>\n",
       "      <td>0.0</td>\n",
       "      <td>0.0</td>\n",
       "      <td>0.0</td>\n",
       "      <td>0.0</td>\n",
       "      <td>0.0</td>\n",
       "      <td>0.0</td>\n",
       "      <td>0.0</td>\n",
       "      <td>0.0</td>\n",
       "      <td>0.0</td>\n",
       "      <td>0.0</td>\n",
       "    </tr>\n",
       "    <tr>\n",
       "      <th>2</th>\n",
       "      <td>2</td>\n",
       "      <td>0.0</td>\n",
       "      <td>0.0</td>\n",
       "      <td>0.0</td>\n",
       "      <td>0.0</td>\n",
       "      <td>0.0</td>\n",
       "      <td>0.0</td>\n",
       "      <td>0.0</td>\n",
       "      <td>0.0</td>\n",
       "      <td>0.0</td>\n",
       "      <td>...</td>\n",
       "      <td>0.0</td>\n",
       "      <td>0.0</td>\n",
       "      <td>0.0</td>\n",
       "      <td>0.0</td>\n",
       "      <td>0.0</td>\n",
       "      <td>3.0</td>\n",
       "      <td>2.0</td>\n",
       "      <td>0.0</td>\n",
       "      <td>1.0</td>\n",
       "      <td>3.0</td>\n",
       "    </tr>\n",
       "    <tr>\n",
       "      <th>3</th>\n",
       "      <td>3</td>\n",
       "      <td>0.0</td>\n",
       "      <td>0.0</td>\n",
       "      <td>0.0</td>\n",
       "      <td>0.0</td>\n",
       "      <td>0.0</td>\n",
       "      <td>0.0</td>\n",
       "      <td>0.0</td>\n",
       "      <td>0.0</td>\n",
       "      <td>0.0</td>\n",
       "      <td>...</td>\n",
       "      <td>0.0</td>\n",
       "      <td>0.0</td>\n",
       "      <td>0.0</td>\n",
       "      <td>0.0</td>\n",
       "      <td>0.0</td>\n",
       "      <td>0.0</td>\n",
       "      <td>0.0</td>\n",
       "      <td>0.0</td>\n",
       "      <td>1.0</td>\n",
       "      <td>0.0</td>\n",
       "    </tr>\n",
       "    <tr>\n",
       "      <th>4</th>\n",
       "      <td>4</td>\n",
       "      <td>0.0</td>\n",
       "      <td>0.0</td>\n",
       "      <td>0.0</td>\n",
       "      <td>0.0</td>\n",
       "      <td>0.0</td>\n",
       "      <td>0.0</td>\n",
       "      <td>0.0</td>\n",
       "      <td>0.0</td>\n",
       "      <td>0.0</td>\n",
       "      <td>...</td>\n",
       "      <td>0.0</td>\n",
       "      <td>0.0</td>\n",
       "      <td>0.0</td>\n",
       "      <td>0.0</td>\n",
       "      <td>0.0</td>\n",
       "      <td>0.0</td>\n",
       "      <td>0.0</td>\n",
       "      <td>0.0</td>\n",
       "      <td>0.0</td>\n",
       "      <td>0.0</td>\n",
       "    </tr>\n",
       "  </tbody>\n",
       "</table>\n",
       "<p>5 rows × 34 columns</p>\n",
       "</div>"
      ],
      "text/plain": [
       "   ID  2013-01  2013-02  2013-03  2013-04  2013-05  2013-06  2013-07  2013-08  \\\n",
       "0   0      0.0      0.0      0.0      0.0      0.0      0.0      0.0      0.0   \n",
       "1   1      0.0      0.0      0.0      0.0      0.0      0.0      0.0      0.0   \n",
       "2   2      0.0      0.0      0.0      0.0      0.0      0.0      0.0      0.0   \n",
       "3   3      0.0      0.0      0.0      0.0      0.0      0.0      0.0      0.0   \n",
       "4   4      0.0      0.0      0.0      0.0      0.0      0.0      0.0      0.0   \n",
       "\n",
       "   2013-09  ...  2014-12  2015-01  2015-02  2015-03  2015-04  2015-05  \\\n",
       "0      0.0  ...      2.0      2.0      0.0      0.0      0.0      1.0   \n",
       "1      0.0  ...      0.0      0.0      0.0      0.0      0.0      0.0   \n",
       "2      0.0  ...      0.0      0.0      0.0      0.0      0.0      3.0   \n",
       "3      0.0  ...      0.0      0.0      0.0      0.0      0.0      0.0   \n",
       "4      0.0  ...      0.0      0.0      0.0      0.0      0.0      0.0   \n",
       "\n",
       "   2015-06  2015-07  2015-08  2015-09  \n",
       "0      1.0      1.0      3.0      1.0  \n",
       "1      0.0      0.0      0.0      0.0  \n",
       "2      2.0      0.0      1.0      3.0  \n",
       "3      0.0      0.0      1.0      0.0  \n",
       "4      0.0      0.0      0.0      0.0  \n",
       "\n",
       "[5 rows x 34 columns]"
      ]
     },
     "execution_count": 35,
     "metadata": {},
     "output_type": "execute_result"
    }
   ],
   "source": [
    "# let's check the x_train dataset\n",
    "\n",
    "x_train.head()"
   ]
  },
  {
   "cell_type": "code",
   "execution_count": 36,
   "id": "eb51838b",
   "metadata": {
    "execution": {
     "iopub.execute_input": "2022-12-10T13:35:32.984264Z",
     "iopub.status.busy": "2022-12-10T13:35:32.983896Z",
     "iopub.status.idle": "2022-12-10T13:35:33.012577Z",
     "shell.execute_reply": "2022-12-10T13:35:33.011189Z"
    },
    "papermill": {
     "duration": 0.060619,
     "end_time": "2022-12-10T13:35:33.015024",
     "exception": false,
     "start_time": "2022-12-10T13:35:32.954405",
     "status": "completed"
    },
    "tags": []
   },
   "outputs": [
    {
     "data": {
      "text/html": [
       "<div>\n",
       "<style scoped>\n",
       "    .dataframe tbody tr th:only-of-type {\n",
       "        vertical-align: middle;\n",
       "    }\n",
       "\n",
       "    .dataframe tbody tr th {\n",
       "        vertical-align: top;\n",
       "    }\n",
       "\n",
       "    .dataframe thead th {\n",
       "        text-align: right;\n",
       "    }\n",
       "</style>\n",
       "<table border=\"1\" class=\"dataframe\">\n",
       "  <thead>\n",
       "    <tr style=\"text-align: right;\">\n",
       "      <th></th>\n",
       "      <th>ID</th>\n",
       "      <th>2013-02</th>\n",
       "      <th>2013-03</th>\n",
       "      <th>2013-04</th>\n",
       "      <th>2013-05</th>\n",
       "      <th>2013-06</th>\n",
       "      <th>2013-07</th>\n",
       "      <th>2013-08</th>\n",
       "      <th>2013-09</th>\n",
       "      <th>2013-10</th>\n",
       "      <th>...</th>\n",
       "      <th>2015-01</th>\n",
       "      <th>2015-02</th>\n",
       "      <th>2015-03</th>\n",
       "      <th>2015-04</th>\n",
       "      <th>2015-05</th>\n",
       "      <th>2015-06</th>\n",
       "      <th>2015-07</th>\n",
       "      <th>2015-08</th>\n",
       "      <th>2015-09</th>\n",
       "      <th>2015-10</th>\n",
       "    </tr>\n",
       "  </thead>\n",
       "  <tbody>\n",
       "    <tr>\n",
       "      <th>0</th>\n",
       "      <td>0</td>\n",
       "      <td>0.0</td>\n",
       "      <td>0.0</td>\n",
       "      <td>0.0</td>\n",
       "      <td>0.0</td>\n",
       "      <td>0.0</td>\n",
       "      <td>0.0</td>\n",
       "      <td>0.0</td>\n",
       "      <td>0.0</td>\n",
       "      <td>0.0</td>\n",
       "      <td>...</td>\n",
       "      <td>2.0</td>\n",
       "      <td>0.0</td>\n",
       "      <td>0.0</td>\n",
       "      <td>0.0</td>\n",
       "      <td>1.0</td>\n",
       "      <td>1.0</td>\n",
       "      <td>1.0</td>\n",
       "      <td>3.0</td>\n",
       "      <td>1.0</td>\n",
       "      <td>0.0</td>\n",
       "    </tr>\n",
       "    <tr>\n",
       "      <th>1</th>\n",
       "      <td>1</td>\n",
       "      <td>0.0</td>\n",
       "      <td>0.0</td>\n",
       "      <td>0.0</td>\n",
       "      <td>0.0</td>\n",
       "      <td>0.0</td>\n",
       "      <td>0.0</td>\n",
       "      <td>0.0</td>\n",
       "      <td>0.0</td>\n",
       "      <td>0.0</td>\n",
       "      <td>...</td>\n",
       "      <td>0.0</td>\n",
       "      <td>0.0</td>\n",
       "      <td>0.0</td>\n",
       "      <td>0.0</td>\n",
       "      <td>0.0</td>\n",
       "      <td>0.0</td>\n",
       "      <td>0.0</td>\n",
       "      <td>0.0</td>\n",
       "      <td>0.0</td>\n",
       "      <td>0.0</td>\n",
       "    </tr>\n",
       "    <tr>\n",
       "      <th>2</th>\n",
       "      <td>2</td>\n",
       "      <td>0.0</td>\n",
       "      <td>0.0</td>\n",
       "      <td>0.0</td>\n",
       "      <td>0.0</td>\n",
       "      <td>0.0</td>\n",
       "      <td>0.0</td>\n",
       "      <td>0.0</td>\n",
       "      <td>0.0</td>\n",
       "      <td>0.0</td>\n",
       "      <td>...</td>\n",
       "      <td>0.0</td>\n",
       "      <td>0.0</td>\n",
       "      <td>0.0</td>\n",
       "      <td>0.0</td>\n",
       "      <td>3.0</td>\n",
       "      <td>2.0</td>\n",
       "      <td>0.0</td>\n",
       "      <td>1.0</td>\n",
       "      <td>3.0</td>\n",
       "      <td>1.0</td>\n",
       "    </tr>\n",
       "    <tr>\n",
       "      <th>3</th>\n",
       "      <td>3</td>\n",
       "      <td>0.0</td>\n",
       "      <td>0.0</td>\n",
       "      <td>0.0</td>\n",
       "      <td>0.0</td>\n",
       "      <td>0.0</td>\n",
       "      <td>0.0</td>\n",
       "      <td>0.0</td>\n",
       "      <td>0.0</td>\n",
       "      <td>0.0</td>\n",
       "      <td>...</td>\n",
       "      <td>0.0</td>\n",
       "      <td>0.0</td>\n",
       "      <td>0.0</td>\n",
       "      <td>0.0</td>\n",
       "      <td>0.0</td>\n",
       "      <td>0.0</td>\n",
       "      <td>0.0</td>\n",
       "      <td>1.0</td>\n",
       "      <td>0.0</td>\n",
       "      <td>0.0</td>\n",
       "    </tr>\n",
       "    <tr>\n",
       "      <th>4</th>\n",
       "      <td>4</td>\n",
       "      <td>0.0</td>\n",
       "      <td>0.0</td>\n",
       "      <td>0.0</td>\n",
       "      <td>0.0</td>\n",
       "      <td>0.0</td>\n",
       "      <td>0.0</td>\n",
       "      <td>0.0</td>\n",
       "      <td>0.0</td>\n",
       "      <td>0.0</td>\n",
       "      <td>...</td>\n",
       "      <td>0.0</td>\n",
       "      <td>0.0</td>\n",
       "      <td>0.0</td>\n",
       "      <td>0.0</td>\n",
       "      <td>0.0</td>\n",
       "      <td>0.0</td>\n",
       "      <td>0.0</td>\n",
       "      <td>0.0</td>\n",
       "      <td>0.0</td>\n",
       "      <td>0.0</td>\n",
       "    </tr>\n",
       "  </tbody>\n",
       "</table>\n",
       "<p>5 rows × 34 columns</p>\n",
       "</div>"
      ],
      "text/plain": [
       "   ID  2013-02  2013-03  2013-04  2013-05  2013-06  2013-07  2013-08  2013-09  \\\n",
       "0   0      0.0      0.0      0.0      0.0      0.0      0.0      0.0      0.0   \n",
       "1   1      0.0      0.0      0.0      0.0      0.0      0.0      0.0      0.0   \n",
       "2   2      0.0      0.0      0.0      0.0      0.0      0.0      0.0      0.0   \n",
       "3   3      0.0      0.0      0.0      0.0      0.0      0.0      0.0      0.0   \n",
       "4   4      0.0      0.0      0.0      0.0      0.0      0.0      0.0      0.0   \n",
       "\n",
       "   2013-10  ...  2015-01  2015-02  2015-03  2015-04  2015-05  2015-06  \\\n",
       "0      0.0  ...      2.0      0.0      0.0      0.0      1.0      1.0   \n",
       "1      0.0  ...      0.0      0.0      0.0      0.0      0.0      0.0   \n",
       "2      0.0  ...      0.0      0.0      0.0      0.0      3.0      2.0   \n",
       "3      0.0  ...      0.0      0.0      0.0      0.0      0.0      0.0   \n",
       "4      0.0  ...      0.0      0.0      0.0      0.0      0.0      0.0   \n",
       "\n",
       "   2015-07  2015-08  2015-09  2015-10  \n",
       "0      1.0      3.0      1.0      0.0  \n",
       "1      0.0      0.0      0.0      0.0  \n",
       "2      0.0      1.0      3.0      1.0  \n",
       "3      0.0      1.0      0.0      0.0  \n",
       "4      0.0      0.0      0.0      0.0  \n",
       "\n",
       "[5 rows x 34 columns]"
      ]
     },
     "execution_count": 36,
     "metadata": {},
     "output_type": "execute_result"
    }
   ],
   "source": [
    "# let's check the x_test data\n",
    "\n",
    "x_test.head()"
   ]
  },
  {
   "cell_type": "code",
   "execution_count": 37,
   "id": "858d398b",
   "metadata": {
    "execution": {
     "iopub.execute_input": "2022-12-10T13:35:33.076284Z",
     "iopub.status.busy": "2022-12-10T13:35:33.075860Z",
     "iopub.status.idle": "2022-12-10T13:35:33.361235Z",
     "shell.execute_reply": "2022-12-10T13:35:33.359839Z"
    },
    "papermill": {
     "duration": 0.319479,
     "end_time": "2022-12-10T13:35:33.364559",
     "exception": false,
     "start_time": "2022-12-10T13:35:33.045080",
     "status": "completed"
    },
    "tags": []
   },
   "outputs": [
    {
     "name": "stdout",
     "output_type": "stream",
     "text": [
      "Shape of x_train : (160650, 34)\n",
      "Shape of x_test : (53550, 34)\n",
      "Shape of y_train : (160650,)\n",
      "Shape of y_test : (53550,)\n"
     ]
    }
   ],
   "source": [
    "# splitting the data into train and valid dataset\n",
    "\n",
    "from sklearn.model_selection import train_test_split\n",
    "\n",
    "x_train, x_test, y_train, y_test = train_test_split(x_train, y_train, test_size = 0.25, random_state = 3)\n",
    "\n",
    "# checking the shapes\n",
    "print(\"Shape of x_train :\", x_train.shape)\n",
    "print(\"Shape of x_test :\", x_test.shape)\n",
    "print(\"Shape of y_train :\", y_train.shape)\n",
    "print(\"Shape of y_test :\", y_test.shape)"
   ]
  },
  {
   "cell_type": "code",
   "execution_count": 38,
   "id": "182df68f",
   "metadata": {
    "execution": {
     "iopub.execute_input": "2022-12-10T13:35:33.424315Z",
     "iopub.status.busy": "2022-12-10T13:35:33.422911Z",
     "iopub.status.idle": "2022-12-10T13:35:33.504744Z",
     "shell.execute_reply": "2022-12-10T13:35:33.503343Z"
    },
    "papermill": {
     "duration": 0.114387,
     "end_time": "2022-12-10T13:35:33.507222",
     "exception": false,
     "start_time": "2022-12-10T13:35:33.392835",
     "status": "completed"
    },
    "tags": []
   },
   "outputs": [],
   "source": [
    "from sklearn.linear_model import LinearRegression,Lasso,Ridge\n",
    "from sklearn.metrics import r2_score"
   ]
  },
  {
   "cell_type": "markdown",
   "id": "b11f7634",
   "metadata": {
    "papermill": {
     "duration": 0.028715,
     "end_time": "2022-12-10T13:35:33.564630",
     "exception": false,
     "start_time": "2022-12-10T13:35:33.535915",
     "status": "completed"
    },
    "tags": []
   },
   "source": [
    "# Linear Regression"
   ]
  },
  {
   "cell_type": "code",
   "execution_count": 39,
   "id": "56351ba6",
   "metadata": {
    "execution": {
     "iopub.execute_input": "2022-12-10T13:35:33.625274Z",
     "iopub.status.busy": "2022-12-10T13:35:33.624889Z",
     "iopub.status.idle": "2022-12-10T13:35:33.629196Z",
     "shell.execute_reply": "2022-12-10T13:35:33.628208Z"
    },
    "papermill": {
     "duration": 0.036925,
     "end_time": "2022-12-10T13:35:33.631313",
     "exception": false,
     "start_time": "2022-12-10T13:35:33.594388",
     "status": "completed"
    },
    "tags": []
   },
   "outputs": [],
   "source": [
    "lin_reg=LinearRegression()"
   ]
  },
  {
   "cell_type": "code",
   "execution_count": 40,
   "id": "3b69874b",
   "metadata": {
    "execution": {
     "iopub.execute_input": "2022-12-10T13:35:33.689620Z",
     "iopub.status.busy": "2022-12-10T13:35:33.688999Z",
     "iopub.status.idle": "2022-12-10T13:35:33.818790Z",
     "shell.execute_reply": "2022-12-10T13:35:33.817974Z"
    },
    "papermill": {
     "duration": 0.1618,
     "end_time": "2022-12-10T13:35:33.821213",
     "exception": false,
     "start_time": "2022-12-10T13:35:33.659413",
     "status": "completed"
    },
    "tags": []
   },
   "outputs": [
    {
     "data": {
      "text/plain": [
       "0.10839100600375173"
      ]
     },
     "execution_count": 40,
     "metadata": {},
     "output_type": "execute_result"
    }
   ],
   "source": [
    "lin_reg.fit(x_train, y_train)\n",
    "y_pred = lin_reg.predict(x_test)\n",
    "r2_score(y_test,y_pred)"
   ]
  },
  {
   "cell_type": "markdown",
   "id": "a3a8149e",
   "metadata": {
    "papermill": {
     "duration": 0.039841,
     "end_time": "2022-12-10T13:35:33.935775",
     "exception": false,
     "start_time": "2022-12-10T13:35:33.895934",
     "status": "completed"
    },
    "tags": []
   },
   "source": [
    "# Lasso Regression"
   ]
  },
  {
   "cell_type": "code",
   "execution_count": 41,
   "id": "45ce4cc2",
   "metadata": {
    "execution": {
     "iopub.execute_input": "2022-12-10T13:35:33.995233Z",
     "iopub.status.busy": "2022-12-10T13:35:33.994316Z",
     "iopub.status.idle": "2022-12-10T13:35:34.341005Z",
     "shell.execute_reply": "2022-12-10T13:35:34.340271Z"
    },
    "papermill": {
     "duration": 0.378723,
     "end_time": "2022-12-10T13:35:34.342922",
     "exception": false,
     "start_time": "2022-12-10T13:35:33.964199",
     "status": "completed"
    },
    "tags": []
   },
   "outputs": [
    {
     "data": {
      "text/plain": [
       "0.1094043165115055"
      ]
     },
     "execution_count": 41,
     "metadata": {},
     "output_type": "execute_result"
    }
   ],
   "source": [
    "las_reg=Lasso(alpha=.01)\n",
    "las_reg.fit(x_train, y_train)\n",
    "y_pred = las_reg.predict(x_test)\n",
    "r2_score(y_test,y_pred)"
   ]
  },
  {
   "cell_type": "markdown",
   "id": "8f82ef8d",
   "metadata": {
    "papermill": {
     "duration": 0.050706,
     "end_time": "2022-12-10T13:35:34.459905",
     "exception": false,
     "start_time": "2022-12-10T13:35:34.409199",
     "status": "completed"
    },
    "tags": []
   },
   "source": [
    "# Ridge Regression"
   ]
  },
  {
   "cell_type": "code",
   "execution_count": 42,
   "id": "f6b5ea7d",
   "metadata": {
    "execution": {
     "iopub.execute_input": "2022-12-10T13:35:34.518069Z",
     "iopub.status.busy": "2022-12-10T13:35:34.517741Z",
     "iopub.status.idle": "2022-12-10T13:35:34.576243Z",
     "shell.execute_reply": "2022-12-10T13:35:34.575468Z"
    },
    "papermill": {
     "duration": 0.090097,
     "end_time": "2022-12-10T13:35:34.578401",
     "exception": false,
     "start_time": "2022-12-10T13:35:34.488304",
     "status": "completed"
    },
    "tags": []
   },
   "outputs": [
    {
     "data": {
      "text/plain": [
       "0.10839145909553283"
      ]
     },
     "execution_count": 42,
     "metadata": {},
     "output_type": "execute_result"
    }
   ],
   "source": [
    "ridge_reg=Ridge(alpha=3)\n",
    "ridge_reg.fit(x_train, y_train)\n",
    "y_pred = ridge_reg.predict(x_test)\n",
    "r2_score(y_test,y_pred)"
   ]
  },
  {
   "cell_type": "code",
   "execution_count": 46,
   "id": "c5f173cd",
   "metadata": {
    "execution": {
     "iopub.execute_input": "2022-12-10T13:35:37.221854Z",
     "iopub.status.busy": "2022-12-10T13:35:37.221514Z",
     "iopub.status.idle": "2022-12-10T13:35:37.324761Z",
     "shell.execute_reply": "2022-12-10T13:35:37.323476Z"
    },
    "papermill": {
     "duration": 0.136538,
     "end_time": "2022-12-10T13:35:37.327292",
     "exception": false,
     "start_time": "2022-12-10T13:35:37.190754",
     "status": "completed"
    },
    "tags": []
   },
   "outputs": [],
   "source": [
    "# Create the submission file and submit\n",
    "preds = pd.DataFrame(y_pred_lgb, columns=['item_cnt_month'])\n",
    "preds.to_csv('submission.csv',index_label='ID')"
   ]
  },
  {
   "cell_type": "markdown",
   "id": "e8683abe",
   "metadata": {
    "papermill": {
     "duration": 0.028613,
     "end_time": "2022-12-10T13:35:37.384555",
     "exception": false,
     "start_time": "2022-12-10T13:35:37.355942",
     "status": "completed"
    },
    "tags": []
   },
   "source": [
    "# Thanks You <(^_^)>"
   ]
  }
 ],
 "metadata": {
  "kernelspec": {
   "display_name": "Python 3",
   "language": "python",
   "name": "python3"
  },
  "language_info": {
   "codemirror_mode": {
    "name": "ipython",
    "version": 3
   },
   "file_extension": ".py",
   "mimetype": "text/x-python",
   "name": "python",
   "nbconvert_exporter": "python",
   "pygments_lexer": "ipython3",
   "version": "3.10.4"
  },
  "papermill": {
   "default_parameters": {},
   "duration": 103.081303,
   "end_time": "2022-12-10T13:35:38.295845",
   "environment_variables": {},
   "exception": null,
   "input_path": "__notebook__.ipynb",
   "output_path": "__notebook__.ipynb",
   "parameters": {},
   "start_time": "2022-12-10T13:33:55.214542",
   "version": "2.3.4"
  }
 },
 "nbformat": 4,
 "nbformat_minor": 5
}
